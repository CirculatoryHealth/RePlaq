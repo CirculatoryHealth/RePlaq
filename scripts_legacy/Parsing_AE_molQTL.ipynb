{
 "cells": [
  {
   "cell_type": "markdown",
   "metadata": {},
   "source": [
    "# Getting results from molQTL analyses in the Athero-Express\n",
    "\n",
    "This notebook extracts per-variant and per-gene results from a _cis_-acting and _trans_-acting eQTL and mQTL analysis of expression and DNA methylation in carotid plaques from the Athero-Express Biobank Study.\n"
   ]
  },
  {
   "attachments": {},
   "cell_type": "markdown",
   "metadata": {},
   "source": [
    "## Import necessary libraries"
   ]
  },
  {
   "cell_type": "code",
   "execution_count": 4,
   "metadata": {},
   "outputs": [],
   "source": [
    "# Function to check for installation of required packages\n",
    "def check_install_package(package_name):\n",
    "    try:\n",
    "        importlib.import_module(package_name)\n",
    "    except ImportError:\n",
    "        print(f'{package_name} is not installed. Installing it now...')\n",
    "        subprocess.check_call(['pip', 'install', package_name])\n",
    "\n",
    "import os\n",
    "import glob\n",
    "import importlib\n",
    "from subprocess import check_output\n",
    "import subprocess\n",
    "import sys\n",
    "\n",
    "# argument parsing\n",
    "import argparse\n",
    "\n",
    "# get date and time\n",
    "import time\n",
    "from datetime import datetime\n",
    "from datetime import timedelta\n",
    "\n",
    "# Pandas is a fast, powerful, flexible and easy to use open source data analysis and manipulation tool\n",
    "check_install_package('pandas')\n",
    "import pandas as pd\n",
    "\n",
    "# pyarrow is supperior to loading parquet files\n",
    "check_install_package('pyarrow')\n",
    "import pyarrow as pa\n",
    "import pyarrow.parquet as pq\n",
    "\n",
    "# polars is a fast dataframe library\n",
    "check_install_package('polars')\n",
    "import polars as pl\n",
    "\n",
    "# for statistical analysis\n",
    "check_install_package('scipy')\n",
    "from scipy import stats\n",
    "import numpy as np\n",
    "\n",
    "# scientific colourmaps\n",
    "# https://www.fabiocrameri.ch/ws/media-library/8c4b111121ff448e843dfef9220bf613/readme_scientificcolourmaps.pdf\n",
    "check_install_package('cmcrameri')\n",
    "import cmcrameri as ccm\n",
    "from cmcrameri import cm\n",
    "\n",
    "# for plotting\n",
    "check_install_package('matplotlib')\n",
    "import matplotlib\n",
    "import matplotlib.pyplot as plt\n",
    "# if using a Jupyter notebook, include:\n",
    "%matplotlib inline\n",
    "\n",
    "# use Seaborn for visualisations\n",
    "check_install_package('seaborn')\n",
    "import seaborn as sns\n",
    "\n",
    "# for handling GWAS data\n",
    "import gwaslab as gl"
   ]
  },
  {
   "attachments": {},
   "cell_type": "markdown",
   "metadata": {},
   "source": [
    "Setting some functions and standard variables, as well creating some directories. "
   ]
  },
  {
   "cell_type": "code",
   "execution_count": 5,
   "metadata": {},
   "outputs": [
    {
     "name": "stdout",
     "output_type": "stream",
     "text": [
      "Checking contents of the reference directory:\n",
      "\u001b[34m1000G\u001b[m\u001b[m\n",
      "\u001b[34mHRC_r1_1_2016\u001b[m\u001b[m\n",
      "\u001b[34mHRCr11_1000Gp3v5\u001b[m\u001b[m\n",
      "\u001b[34mdbSNP\u001b[m\u001b[m\n",
      "\u001b[34mtcga\u001b[m\u001b[m\n",
      "\n",
      "Checking contents of the GWAS directory:\n",
      "\u001b[34m_AAAgen\u001b[m\u001b[m\n",
      "\u001b[34m_BloodPressure\u001b[m\u001b[m\n",
      "\u001b[34m_CARDIoGRAM\u001b[m\u001b[m\n",
      "\u001b[34m_CHARGE_CAC\u001b[m\u001b[m\n",
      "\u001b[34m_CHARGE_cIMT_PlaquePresence\u001b[m\u001b[m\n",
      "\u001b[34m_DIAGRAM\u001b[m\u001b[m\n",
      "\u001b[34m_IMPROVE_OLINK\u001b[m\u001b[m\n",
      "\u001b[34m_ISGC\u001b[m\u001b[m\n",
      "\u001b[34m_LIPIDS\u001b[m\u001b[m\n",
      "\u001b[34m_PGC\u001b[m\u001b[m\n",
      "\u001b[34m_SCALLOP\u001b[m\u001b[m\n",
      "\u001b[34m_SMCs\u001b[m\u001b[m\n",
      "\u001b[34m_SiGN\u001b[m\u001b[m\n",
      "\u001b[34m_VERTIGO\u001b[m\u001b[m\n",
      "\u001b[34m_cojo\u001b[m\u001b[m\n",
      "\u001b[34m_magma\u001b[m\u001b[m\n",
      "\n",
      "Checking contents of the nominal cis-eQTL data directory:\n",
      "README.md\n",
      "tensorqtl_cis_nominal_chr01.cis_qtl_pairs.chr01.parquet\n",
      "tensorqtl_cis_nominal_chr02.cis_qtl_pairs.chr02.parquet\n",
      "tensorqtl_cis_nominal_chr03.cis_qtl_pairs.chr03.parquet\n",
      "tensorqtl_cis_nominal_chr04.cis_qtl_pairs.chr04.parquet\n",
      "tensorqtl_cis_nominal_chr05.cis_qtl_pairs.chr05.parquet\n",
      "tensorqtl_cis_nominal_chr06.cis_qtl_pairs.chr06.parquet\n",
      "tensorqtl_cis_nominal_chr07.cis_qtl_pairs.chr07.parquet\n",
      "tensorqtl_cis_nominal_chr08.cis_qtl_pairs.chr08.parquet\n",
      "tensorqtl_cis_nominal_chr09.cis_qtl_pairs.chr09.parquet\n",
      "tensorqtl_cis_nominal_chr10.cis_qtl_pairs.chr10.parquet\n",
      "tensorqtl_cis_nominal_chr11.cis_qtl_pairs.chr11.parquet\n",
      "tensorqtl_cis_nominal_chr12.cis_qtl_pairs.chr12.parquet\n",
      "tensorqtl_cis_nominal_chr13.cis_qtl_pairs.chr13.parquet\n",
      "tensorqtl_cis_nominal_chr14.cis_qtl_pairs.chr14.parquet\n",
      "tensorqtl_cis_nominal_chr15.cis_qtl_pairs.chr15.parquet\n",
      "tensorqtl_cis_nominal_chr16.cis_qtl_pairs.chr16.parquet\n",
      "tensorqtl_cis_nominal_chr17.cis_qtl_pairs.chr17.parquet\n",
      "tensorqtl_cis_nominal_chr18.cis_qtl_pairs.chr18.parquet\n",
      "tensorqtl_cis_nominal_chr19.cis_qtl_pairs.chr19.parquet\n",
      "tensorqtl_cis_nominal_chr20.cis_qtl_pairs.chr20.parquet\n",
      "tensorqtl_cis_nominal_chr21.cis_qtl_pairs.chr21.parquet\n",
      "tensorqtl_cis_nominal_chr22.cis_qtl_pairs.chr22.parquet\n",
      "tensorqtl_nominal_cis_qtl_pairs.annot.parquet\n",
      "tensorqtl_nominal_cis_qtl_pairs.sumstats.gwaslab\n",
      "tensorqtl_nominal_cis_qtl_pairs.sumstats.log\n",
      "tensorqtl_nominal_cis_qtl_pairs.sumstats.parquet\n",
      "tensorqtl_nominal_cis_qtl_pairs.sumstats.top.csv\n",
      "tensorqtl_nominal_cis_qtl_pairs.sumstats.top.xlsx\n",
      "\n",
      "Checking contents of the permuted cis-mQTL data directory:\n",
      "README.md\n",
      "tensormqtl.perm_cis_mqtl.txt\n",
      "tensormqtl_cis_chr1.cis_qtl.txt.gz\n",
      "tensormqtl_cis_chr10.cis_qtl.txt.gz\n",
      "tensormqtl_cis_chr11.cis_qtl.txt.gz\n",
      "tensormqtl_cis_chr12.cis_qtl.txt.gz\n",
      "tensormqtl_cis_chr13.cis_qtl.txt.gz\n",
      "tensormqtl_cis_chr14.cis_qtl.txt.gz\n",
      "tensormqtl_cis_chr15.cis_qtl.txt.gz\n",
      "tensormqtl_cis_chr16.cis_qtl.txt.gz\n",
      "tensormqtl_cis_chr17.cis_qtl.txt.gz\n",
      "tensormqtl_cis_chr18.cis_qtl.txt.gz\n",
      "tensormqtl_cis_chr19.cis_qtl.txt.gz\n",
      "tensormqtl_cis_chr2.cis_qtl.txt.gz\n",
      "tensormqtl_cis_chr20.cis_qtl.txt.gz\n",
      "tensormqtl_cis_chr21.cis_qtl.txt.gz\n",
      "tensormqtl_cis_chr22.cis_qtl.txt.gz\n",
      "tensormqtl_cis_chr3.cis_qtl.txt.gz\n",
      "tensormqtl_cis_chr4.cis_qtl.txt.gz\n",
      "tensormqtl_cis_chr5.cis_qtl.txt.gz\n",
      "tensormqtl_cis_chr6.cis_qtl.txt.gz\n",
      "tensormqtl_cis_chr7.cis_qtl.txt.gz\n",
      "tensormqtl_cis_chr8.cis_qtl.txt.gz\n",
      "tensormqtl_cis_chr9.cis_qtl.txt.gz\n",
      "\n",
      "Checking contents of the permuted trans-eQTL data directory:\n",
      "README.md\n",
      "tensorqtl_trans_full.trans_qtl_pairs.parquet\n",
      "\n",
      "Checking contents of the permuted trans-eQTL data directory:\n",
      "README.md\n",
      "tensormqtl_perm_trans_qtl_pairs.annot.parquet\n",
      "tensormqtl_trans_chr1.trans_qtl_pairs.parquet\n",
      "tensormqtl_trans_chr10.trans_qtl_pairs.parquet\n",
      "tensormqtl_trans_chr11.trans_qtl_pairs.parquet\n",
      "tensormqtl_trans_chr12.trans_qtl_pairs.parquet\n",
      "tensormqtl_trans_chr13.trans_qtl_pairs.parquet\n",
      "tensormqtl_trans_chr14.trans_qtl_pairs.parquet\n",
      "tensormqtl_trans_chr15.trans_qtl_pairs.parquet\n",
      "tensormqtl_trans_chr16.trans_qtl_pairs.parquet\n",
      "tensormqtl_trans_chr17.trans_qtl_pairs.parquet\n",
      "tensormqtl_trans_chr18.trans_qtl_pairs.parquet\n",
      "tensormqtl_trans_chr19.trans_qtl_pairs.parquet\n",
      "tensormqtl_trans_chr2.trans_qtl_pairs.parquet\n",
      "tensormqtl_trans_chr20.trans_qtl_pairs.parquet\n",
      "tensormqtl_trans_chr21.trans_qtl_pairs.parquet\n",
      "tensormqtl_trans_chr22.trans_qtl_pairs.parquet\n",
      "tensormqtl_trans_chr3.trans_qtl_pairs.parquet\n",
      "tensormqtl_trans_chr4.trans_qtl_pairs.parquet\n",
      "tensormqtl_trans_chr5.trans_qtl_pairs.parquet\n",
      "tensormqtl_trans_chr6.trans_qtl_pairs.parquet\n",
      "tensormqtl_trans_chr7.trans_qtl_pairs.parquet\n",
      "tensormqtl_trans_chr8.trans_qtl_pairs.parquet\n",
      "tensormqtl_trans_chr9.trans_qtl_pairs.parquet\n",
      "\n"
     ]
    }
   ],
   "source": [
    "# Create directories for the GWAS data and the reference data\n",
    "\n",
    "# set some general defaults\n",
    "TRAIT_OF_INTEREST = \"HTRA1\"  # Phenotype\n",
    "PROJECTNAME = \"HTRA1\"\n",
    "\n",
    "POPULATION = \"EUR\"\n",
    "\n",
    "# general plotting directory\n",
    "PLOTS_loc = \"PLOTS\"\n",
    "\n",
    "# location to put molQTL results\n",
    "molQTL_loc = \"molQTL_results\"\n",
    "\n",
    "# Get today's date\n",
    "today_date = datetime.now()\n",
    "\n",
    "# Format the date as yyyymmdd\n",
    "FORMATTED_TODAY = today_date.strftime(\"%Y%m%d\")\n",
    "\n",
    "# Check if the directory exists\n",
    "if not os.path.exists(molQTL_loc):\n",
    "    # If it doesn't exist, create it\n",
    "    os.makedirs(molQTL_loc)\n",
    "\n",
    "# Check if the directory exists\n",
    "if not os.path.exists(PLOTS_loc):\n",
    "    # If it doesn't exist, create it\n",
    "    os.makedirs(PLOTS_loc)\n",
    "\n",
    "# # regional association plots directory\n",
    "# REG_PLOTS_loc = PLOTS_loc + \"/Regional_Association_Plots\"\n",
    "\n",
    "# # Check if the directory exists\n",
    "# if not os.path.exists(REG_PLOTS_loc):\n",
    "#     # If it doesn't exist, create it\n",
    "#     os.makedirs(REG_PLOTS_loc)\n",
    "\n",
    "# Reference data directory\n",
    "REF_loc = \"/Users/slaan3/PLINK/references\"\n",
    "print(f'Checking contents of the reference directory:')\n",
    "print(check_output([\"ls\", os.path.join(REF_loc)]).decode(\"utf8\"))\n",
    "\n",
    "# GWAS data directory\n",
    "GWAS_loc = \"/Users/slaan3/PLINK/_GWAS_Datasets\"\n",
    "print(f'Checking contents of the GWAS directory:')\n",
    "print(check_output([\"ls\", os.path.join(GWAS_loc)]).decode(\"utf8\"))\n",
    "\n",
    "# molQTL data directory\n",
    "NOM_CIS_EQTL_loc = \"/Users/slaan3/git/CirculatoryHealth/molqtl/results/version1_aernas1_firstrun/nom_cis_eqtl\"\n",
    "print(f'Checking contents of the nominal cis-eQTL data directory:')\n",
    "print(check_output([\"ls\", os.path.join(NOM_CIS_EQTL_loc)]).decode(\"utf8\"))\n",
    "\n",
    "PERM_CIS_MQTL_loc = \"/Users/slaan3/git/CirculatoryHealth/molqtl/results/perm_cis_mqtl\"\n",
    "print(f'Checking contents of the permuted cis-mQTL data directory:')\n",
    "print(check_output([\"ls\", os.path.join(PERM_CIS_MQTL_loc)]).decode(\"utf8\"))\n",
    "\n",
    "PERM_TRANS_EQTL_loc = \"/Users/slaan3/git/CirculatoryHealth/molqtl/results/version1_aernas1_firstrun/perm_trans_eqtl\"\n",
    "print(f'Checking contents of the permuted trans-eQTL data directory:')\n",
    "print(check_output([\"ls\", os.path.join(PERM_TRANS_EQTL_loc)]).decode(\"utf8\"))\n",
    "\n",
    "PERM_TRANS_MQTL_loc = (\n",
    "    \"/Users/slaan3/git/CirculatoryHealth/molqtl/results/perm_trans_mqtl\"\n",
    ")\n",
    "print(f'Checking contents of the permuted trans-eQTL data directory:')\n",
    "print(check_output([\"ls\", os.path.join(PERM_TRANS_MQTL_loc)]).decode(\"utf8\"))"
   ]
  },
  {
   "cell_type": "code",
   "execution_count": 6,
   "metadata": {},
   "outputs": [],
   "source": [
    "# Example function to get data from a molQTL file\n",
    "def molqtl_merge_and_export(target_variants, sumstats, left_col, right_col, sort_column, output_csv):\n",
    "    print(f'Merging target variants with nominal cis-eQTLs.')\n",
    "\n",
    "    # Perform the join operation\n",
    "    temp = target_variants.join(\n",
    "        sumstats, left_on=left_col, right_on=right_col, how=\"inner\"\n",
    "    )\n",
    "\n",
    "    print(\n",
    "        f'> Sorting the DataFrame by column \"{sort_column}\" in descending order.')\n",
    "    # Sort the DataFrame by specified column in descending order\n",
    "    result = temp.sort(sort_column)\n",
    "    del temp\n",
    "\n",
    "    print(f'> Showing the first 5 rows of the DataFrame.')\n",
    "    # Display the sorted DataFrame in descending order\n",
    "    print(result)\n",
    "\n",
    "    print(f'> Exporting the Polars DataFrame to a CSV file.')\n",
    "    # Export the Polars DataFrame to a CSV file\n",
    "    result.write_csv(output_csv)\n",
    "\n",
    "# Example usage\n",
    "\n",
    "# molqtl_merge_and_export(target_variants, sumstats_nom_cis_eqtl, \"VariantID\", \"VariantID\",\n",
    "#                         \"pval_nominal\", os.path.join(molQTL_loc, \"pgc_target_variants_nom_cis_eqtl.csv\"))"
   ]
  },
  {
   "cell_type": "markdown",
   "metadata": {},
   "source": [
    "# Targets\n",
    "\n",
    "Here we load the list of variants of interest for this project."
   ]
  },
  {
   "cell_type": "code",
   "execution_count": 7,
   "metadata": {},
   "outputs": [],
   "source": [
    "# Get the list of targets\n",
    "# polars.read_excel(\n",
    "# source: str | BytesIO | Path | BinaryIO | bytes,\n",
    "# *,\n",
    "# sheet_id: None = None,\n",
    "# sheet_name: str,\n",
    "# engine: Literal['xlsx2csv', 'openpyxl', 'pyxlsb'] | None = None,\n",
    "# xlsx2csv_options: dict[str, Any] | None = None,\n",
    "# read_csv_options: dict[str, Any] | None = None,\n",
    "# schema_overrides: SchemaDict | None = None,\n",
    "# raise_if_empty: bool = True,\n",
    "# )\n",
    "\n",
    "target_variants = pl.read_excel(\n",
    "    source=os.path.join(\"targets/targets.xlsx\"), sheet_name=\"Variants\"\n",
    ")"
   ]
  },
  {
   "cell_type": "code",
   "execution_count": 8,
   "metadata": {},
   "outputs": [
    {
     "data": {
      "text/html": [
       "<div><style>\n",
       ".dataframe > thead > tr > th,\n",
       ".dataframe > tbody > tr > td {\n",
       "  text-align: right;\n",
       "  white-space: pre-wrap;\n",
       "}\n",
       "</style>\n",
       "<small>shape: (5, 10)</small><table border=\"1\" class=\"dataframe\"><thead><tr><th>RSID</th><th>ALTID</th><th>VariantID</th><th>Chr</th><th>BP</th><th>VariantType</th><th>Comments</th><th>A1</th><th>A2</th><th>Link</th></tr><tr><td>str</td><td>str</td><td>str</td><td>i64</td><td>i64</td><td>str</td><td>str</td><td>str</td><td>str</td><td>str</td></tr></thead><tbody><tr><td>&quot;rs2672592&quot;</td><td>&quot;---&quot;</td><td>&quot;10:124230750&quot;</td><td>10</td><td>124230750</td><td>&quot;single nucleot…</td><td>&quot;multi-allelic&quot;</td><td>&quot;G&quot;</td><td>&quot;T (A)&quot;</td><td>&quot;https://www.nc…</td></tr><tr><td>null</td><td>null</td><td>null</td><td>null</td><td>null</td><td>null</td><td>null</td><td>null</td><td>null</td><td>null</td></tr><tr><td>null</td><td>null</td><td>null</td><td>null</td><td>null</td><td>null</td><td>null</td><td>null</td><td>null</td><td>null</td></tr><tr><td>null</td><td>null</td><td>null</td><td>null</td><td>null</td><td>null</td><td>null</td><td>null</td><td>null</td><td>null</td></tr><tr><td>null</td><td>null</td><td>null</td><td>null</td><td>null</td><td>null</td><td>null</td><td>null</td><td>null</td><td>null</td></tr></tbody></table></div>"
      ],
      "text/plain": [
       "shape: (5, 10)\n",
       "┌───────────┬───────┬──────────────┬──────┬───┬───────────────┬──────┬───────┬─────────────────────┐\n",
       "│ RSID      ┆ ALTID ┆ VariantID    ┆ Chr  ┆ … ┆ Comments      ┆ A1   ┆ A2    ┆ Link                │\n",
       "│ ---       ┆ ---   ┆ ---          ┆ ---  ┆   ┆ ---           ┆ ---  ┆ ---   ┆ ---                 │\n",
       "│ str       ┆ str   ┆ str          ┆ i64  ┆   ┆ str           ┆ str  ┆ str   ┆ str                 │\n",
       "╞═══════════╪═══════╪══════════════╪══════╪═══╪═══════════════╪══════╪═══════╪═════════════════════╡\n",
       "│ rs2672592 ┆ ---   ┆ 10:124230750 ┆ 10   ┆ … ┆ multi-allelic ┆ G    ┆ T (A) ┆ https://www.ncbi.nl │\n",
       "│           ┆       ┆              ┆      ┆   ┆               ┆      ┆       ┆ m.nih.gov/snp…      │\n",
       "│ null      ┆ null  ┆ null         ┆ null ┆ … ┆ null          ┆ null ┆ null  ┆ null                │\n",
       "│ null      ┆ null  ┆ null         ┆ null ┆ … ┆ null          ┆ null ┆ null  ┆ null                │\n",
       "│ null      ┆ null  ┆ null         ┆ null ┆ … ┆ null          ┆ null ┆ null  ┆ null                │\n",
       "│ null      ┆ null  ┆ null         ┆ null ┆ … ┆ null          ┆ null ┆ null  ┆ null                │\n",
       "└───────────┴───────┴──────────────┴──────┴───┴───────────────┴──────┴───────┴─────────────────────┘"
      ]
     },
     "execution_count": 8,
     "metadata": {},
     "output_type": "execute_result"
    }
   ],
   "source": [
    "target_variants"
   ]
  },
  {
   "cell_type": "markdown",
   "metadata": {},
   "source": [
    "# cis-eQTL (nominal)\n",
    "\n",
    "Here we load the nominal _cis_-acting eQTL data."
   ]
  },
  {
   "cell_type": "code",
   "execution_count": 9,
   "metadata": {},
   "outputs": [],
   "source": [
    "# read in data\n",
    "# https://stackoverflow.com/questions/33813815/how-to-read-a-parquet-file-into-pandas-dataframe\n",
    "\n",
    "import polars as pl\n",
    "\n",
    "# annotated cis-eQTLs\n",
    "sumstats_nom_cis_eqtl = pl.read_parquet(\n",
    "    source=os.path.join(\n",
    "        NOM_CIS_EQTL_loc, \"tensorqtl_nominal_cis_qtl_pairs.annot.parquet\"\n",
    "    )\n",
    ")"
   ]
  },
  {
   "cell_type": "code",
   "execution_count": 10,
   "metadata": {},
   "outputs": [
    {
     "data": {
      "text/html": [
       "<div><style>\n",
       ".dataframe > thead > tr > th,\n",
       ".dataframe > tbody > tr > td {\n",
       "  text-align: right;\n",
       "  white-space: pre-wrap;\n",
       "}\n",
       "</style>\n",
       "<small>shape: (77_285_276, 25)</small><table border=\"1\" class=\"dataframe\"><thead><tr><th>EnsemblID</th><th>VariantID</th><th>tss_distance</th><th>CAF_eQTL</th><th>ma_samples</th><th>ma_count</th><th>pval_nominal</th><th>Beta</th><th>SE</th><th>chromosome</th><th>position</th><th>OtherAlleleA</th><th>CodedAlleleB</th><th>CAF</th><th>AltID</th><th>Source</th><th>AverageMaximumPosteriorCall</th><th>Info</th><th>AA_N</th><th>AB_N</th><th>BB_N</th><th>TotalN</th><th>MAF</th><th>MissingDataProportion</th><th>HWE_P</th></tr><tr><td>str</td><td>str</td><td>i32</td><td>f32</td><td>i32</td><td>i32</td><td>f64</td><td>f32</td><td>f32</td><td>i64</td><td>i64</td><td>str</td><td>str</td><td>f64</td><td>str</td><td>str</td><td>f64</td><td>f64</td><td>f64</td><td>f64</td><td>f64</td><td>i64</td><td>f64</td><td>f64</td><td>f64</td></tr></thead><tbody><tr><td>&quot;ENSG0000018763…</td><td>&quot;1:693731&quot;</td><td>-240519</td><td>0.134185</td><td>153</td><td>168</td><td>0.881492</td><td>0.005953</td><td>0.039917</td><td>1</td><td>693731</td><td>&quot;A&quot;</td><td>&quot;G&quot;</td><td>0.137241</td><td>&quot;rs12238997&quot;</td><td>&quot;HRCr11&quot;</td><td>0.902046</td><td>0.624501</td><td>1637.01</td><td>451.103</td><td>35.569</td><td>2124</td><td>0.122957</td><td>0.000075</td><td>0.544841</td></tr><tr><td>&quot;ENSG0000018763…</td><td>&quot;1:714596&quot;</td><td>-219654</td><td>0.038339</td><td>48</td><td>48</td><td>0.834746</td><td>-0.015369</td><td>0.073635</td><td>1</td><td>714596</td><td>&quot;T&quot;</td><td>&quot;C&quot;</td><td>0.0327213</td><td>&quot;rs149887893&quot;</td><td>&quot;HRCr11&quot;</td><td>0.968278</td><td>0.577564</td><td>1987.73</td><td>135.495</td><td>0.677</td><td>2124</td><td>0.0322165</td><td>0.000024</td><td>0.272504</td></tr><tr><td>&quot;ENSG0000018763…</td><td>&quot;1:715367&quot;</td><td>-218883</td><td>0.038339</td><td>48</td><td>48</td><td>0.834746</td><td>-0.015369</td><td>0.073635</td><td>1</td><td>715367</td><td>&quot;A&quot;</td><td>&quot;G&quot;</td><td>0.0324859</td><td>&quot;rs12184277&quot;</td><td>&quot;HRCr11&quot;</td><td>0.975207</td><td>0.67196</td><td>1976.85</td><td>146.512</td><td>0.556</td><td>2124</td><td>0.0347528</td><td>0.000019</td><td>0.176551</td></tr><tr><td>&quot;ENSG0000018763…</td><td>&quot;1:717485&quot;</td><td>-216765</td><td>0.038339</td><td>48</td><td>48</td><td>0.834746</td><td>-0.015369</td><td>0.073635</td><td>1</td><td>717485</td><td>&quot;C&quot;</td><td>&quot;A&quot;</td><td>0.0324859</td><td>&quot;rs12184279&quot;</td><td>&quot;HRCr11&quot;</td><td>0.975183</td><td>0.670147</td><td>1978.35</td><td>145.041</td><td>0.517</td><td>2124</td><td>0.0343883</td><td>0.000022</td><td>0.174817</td></tr><tr><td>&quot;ENSG0000018763…</td><td>&quot;1:720381&quot;</td><td>-213869</td><td>0.038339</td><td>48</td><td>48</td><td>0.834746</td><td>-0.015369</td><td>0.073635</td><td>1</td><td>720381</td><td>&quot;G&quot;</td><td>&quot;T&quot;</td><td>0.0327213</td><td>&quot;rs116801199&quot;</td><td>&quot;HRCr11&quot;</td><td>0.974476</td><td>0.667536</td><td>1973.72</td><td>149.503</td><td>0.691</td><td>2124</td><td>0.0355205</td><td>0.00002</td><td>0.110452</td></tr><tr><td>&quot;ENSG0000018763…</td><td>&quot;1:721290&quot;</td><td>-212960</td><td>0.038339</td><td>48</td><td>48</td><td>0.834746</td><td>-0.015369</td><td>0.073635</td><td>1</td><td>721290</td><td>&quot;G&quot;</td><td>&quot;C&quot;</td><td>0.0327213</td><td>&quot;rs12565286&quot;</td><td>&quot;HRCr11&quot;</td><td>0.975168</td><td>0.677386</td><td>1972.67</td><td>150.564</td><td>0.687</td><td>2124</td><td>0.0357682</td><td>0.000017</td><td>0.110447</td></tr><tr><td>&quot;ENSG0000018763…</td><td>&quot;1:726794&quot;</td><td>-207456</td><td>0.038339</td><td>48</td><td>48</td><td>0.834746</td><td>-0.015369</td><td>0.073635</td><td>1</td><td>726794</td><td>&quot;C&quot;</td><td>&quot;G&quot;</td><td>0.0324859</td><td>&quot;rs28454925&quot;</td><td>&quot;HRCr11&quot;</td><td>0.977817</td><td>0.70519</td><td>1977.3</td><td>146.099</td><td>0.547</td><td>2124</td><td>0.0346509</td><td>0.000013</td><td>0.176493</td></tr><tr><td>&quot;ENSG0000018763…</td><td>&quot;1:729632&quot;</td><td>-204618</td><td>0.038339</td><td>48</td><td>48</td><td>0.834746</td><td>-0.015369</td><td>0.073635</td><td>1</td><td>729632</td><td>&quot;C&quot;</td><td>&quot;T&quot;</td><td>0.0324859</td><td>&quot;rs116720794&quot;</td><td>&quot;HRCr11&quot;</td><td>0.978581</td><td>0.715529</td><td>1976.76</td><td>146.752</td><td>0.454</td><td>2124</td><td>0.0347604</td><td>0.000008</td><td>0.176551</td></tr><tr><td>&quot;ENSG0000018763…</td><td>&quot;1:729679&quot;</td><td>-204571</td><td>0.829073</td><td>195</td><td>214</td><td>0.678049</td><td>0.015322</td><td>0.03689</td><td>1</td><td>729679</td><td>&quot;C&quot;</td><td>&quot;G&quot;</td><td>0.829331</td><td>&quot;rs4951859&quot;</td><td>&quot;HRCr11&quot;</td><td>0.936062</td><td>0.78861</td><td>58.204</td><td>600.893</td><td>1464.61</td><td>2124</td><td>0.16888</td><td>0.00007</td><td>0.757157</td></tr><tr><td>&quot;ENSG0000018763…</td><td>&quot;1:730087&quot;</td><td>-204163</td><td>0.010383</td><td>13</td><td>13</td><td>0.068513</td><td>-0.24805</td><td>0.135916</td><td>1</td><td>730087</td><td>&quot;T&quot;</td><td>&quot;C&quot;</td><td>0.0216573</td><td>&quot;rs148120343&quot;</td><td>&quot;HRCr11&quot;</td><td>0.919602</td><td>0.439455</td><td>1902.75</td><td>213.581</td><td>7.655</td><td>2124</td><td>0.0538824</td><td>0.000003</td><td>0.665385</td></tr><tr><td>&quot;ENSG0000018763…</td><td>&quot;1:734349&quot;</td><td>-199901</td><td>0.142173</td><td>160</td><td>178</td><td>0.847613</td><td>-0.007442</td><td>0.03871</td><td>1</td><td>734349</td><td>&quot;T&quot;</td><td>&quot;C&quot;</td><td>0.141243</td><td>&quot;rs141242758&quot;</td><td>&quot;HRCr11&quot;</td><td>0.937888</td><td>0.763468</td><td>1613.05</td><td>470.328</td><td>40.551</td><td>2124</td><td>0.129814</td><td>0.000016</td><td>0.386753</td></tr><tr><td>&quot;ENSG0000018763…</td><td>&quot;1:749963&quot;</td><td>-184287</td><td>0.849042</td><td>173</td><td>189</td><td>0.541253</td><td>0.023601</td><td>0.038609</td><td>1</td><td>749963</td><td>&quot;T&quot;</td><td>&quot;TAA&quot;</td><td>0.852401</td><td>&quot;rs529266287&quot;</td><td>&quot;1000Gp3v5&quot;</td><td>0.827744</td><td>0.414116</td><td>50.784</td><td>535.798</td><td>1537.19</td><td>2124</td><td>0.150055</td><td>0.000054</td><td>0.669638</td></tr><tr><td>&hellip;</td><td>&hellip;</td><td>&hellip;</td><td>&hellip;</td><td>&hellip;</td><td>&hellip;</td><td>&hellip;</td><td>&hellip;</td><td>&hellip;</td><td>&hellip;</td><td>&hellip;</td><td>&hellip;</td><td>&hellip;</td><td>&hellip;</td><td>&hellip;</td><td>&hellip;</td><td>&hellip;</td><td>&hellip;</td><td>&hellip;</td><td>&hellip;</td><td>&hellip;</td><td>&hellip;</td><td>&hellip;</td><td>&hellip;</td><td>&hellip;</td></tr><tr><td>&quot;ENSG0000007997…</td><td>&quot;22:51211392&quot;</td><td>435807</td><td>0.110224</td><td>129</td><td>138</td><td>0.674672</td><td>-0.006576</td><td>0.015659</td><td>22</td><td>51211392</td><td>&quot;T&quot;</td><td>&quot;C&quot;</td><td>0.115819</td><td>&quot;rs3888396&quot;</td><td>&quot;HRCr11&quot;</td><td>0.907153</td><td>0.67269</td><td>1567.31</td><td>514.451</td><td>42.166</td><td>2124</td><td>0.140961</td><td>0.000017</td><td>1.0</td></tr><tr><td>&quot;ENSG0000007997…</td><td>&quot;22:51212875&quot;</td><td>437290</td><td>0.284345</td><td>306</td><td>356</td><td>0.837243</td><td>-0.002278</td><td>0.011084</td><td>22</td><td>51212875</td><td>&quot;A&quot;</td><td>&quot;C&quot;</td><td>0.294021</td><td>&quot;rs2238837&quot;</td><td>&quot;HRCr11&quot;</td><td>0.697709</td><td>0.417753</td><td>977.671</td><td>930.827</td><td>215.539</td><td>2124</td><td>0.320594</td><td>-0.000009</td><td>0.803234</td></tr><tr><td>&quot;ENSG0000007997…</td><td>&quot;22:51213613&quot;</td><td>438028</td><td>0.091054</td><td>109</td><td>114</td><td>0.617366</td><td>0.008647</td><td>0.017299</td><td>22</td><td>51213613</td><td>&quot;C&quot;</td><td>&quot;T&quot;</td><td>0.0983992</td><td>&quot;rs34726907&quot;</td><td>&quot;HRCr11&quot;</td><td>0.911371</td><td>0.641652</td><td>1626.52</td><td>457.317</td><td>40.076</td><td>2124</td><td>0.126528</td><td>0.000021</td><td>0.238094</td></tr><tr><td>&quot;ENSG0000007997…</td><td>&quot;22:51216564&quot;</td><td>440979</td><td>0.094249</td><td>113</td><td>118</td><td>0.514632</td><td>0.011129</td><td>0.017068</td><td>22</td><td>51216564</td><td>&quot;T&quot;</td><td>&quot;C&quot;</td><td>0.0993409</td><td>&quot;rs9616970&quot;</td><td>&quot;HRCr11&quot;</td><td>0.910966</td><td>0.641416</td><td>1625.01</td><td>457.918</td><td>40.952</td><td>2124</td><td>0.127084</td><td>0.000028</td><td>0.238248</td></tr><tr><td>&quot;ENSG0000007997…</td><td>&quot;22:51217954&quot;</td><td>442369</td><td>0.039137</td><td>47</td><td>49</td><td>0.941986</td><td>-0.001824</td><td>0.025058</td><td>22</td><td>51217954</td><td>&quot;G&quot;</td><td>&quot;A&quot;</td><td>0.048258</td><td>&quot;rs9616974&quot;</td><td>&quot;HRCr11&quot;</td><td>0.935934</td><td>0.589496</td><td>1820.62</td><td>288.326</td><td>14.958</td><td>2124</td><td>0.0749191</td><td>0.000023</td><td>0.432722</td></tr><tr><td>&quot;ENSG0000007997…</td><td>&quot;22:51218224&quot;</td><td>442639</td><td>0.039137</td><td>47</td><td>49</td><td>0.941986</td><td>-0.001824</td><td>0.025058</td><td>22</td><td>51218224</td><td>&quot;C&quot;</td><td>&quot;A&quot;</td><td>0.048258</td><td>&quot;rs9616975&quot;</td><td>&quot;HRCr11&quot;</td><td>0.935875</td><td>0.589149</td><td>1820.57</td><td>288.351</td><td>14.964</td><td>2124</td><td>0.0749286</td><td>0.000028</td><td>0.432722</td></tr><tr><td>&quot;ENSG0000007997…</td><td>&quot;22:51219006&quot;</td><td>443421</td><td>0.098243</td><td>118</td><td>123</td><td>0.444242</td><td>0.012895</td><td>0.016843</td><td>22</td><td>51219006</td><td>&quot;G&quot;</td><td>&quot;A&quot;</td><td>0.102872</td><td>&quot;rs28729663&quot;</td><td>&quot;HRCr11&quot;</td><td>0.892158</td><td>0.597195</td><td>1583.78</td><td>493.515</td><td>46.538</td><td>2124</td><td>0.138097</td><td>0.000038</td><td>0.31437</td></tr><tr><td>&quot;ENSG0000007997…</td><td>&quot;22:51220249&quot;</td><td>444664</td><td>0.035942</td><td>43</td><td>45</td><td>0.863512</td><td>-0.004492</td><td>0.026119</td><td>22</td><td>51220249</td><td>&quot;A&quot;</td><td>&quot;T&quot;</td><td>0.0442561</td><td>&quot;rs9616977&quot;</td><td>&quot;1000Gp3v5&quot;</td><td>0.913151</td><td>0.403798</td><td>1832.6</td><td>278.562</td><td>12.692</td><td>2124</td><td>0.0715553</td><td>0.000034</td><td>0.622809</td></tr><tr><td>&quot;ENSG0000007997…</td><td>&quot;22:51221190&quot;</td><td>445605</td><td>0.035144</td><td>42</td><td>44</td><td>0.671267</td><td>0.011112</td><td>0.026169</td><td>22</td><td>51221190</td><td>&quot;G&quot;</td><td>&quot;A&quot;</td><td>0.0400188</td><td>&quot;rs369304721&quot;</td><td>&quot;HRCr11&quot;</td><td>0.933398</td><td>0.443438</td><td>1911.83</td><td>204.73</td><td>7.373</td><td>2124</td><td>0.0516673</td><td>0.000015</td><td>0.500544</td></tr><tr><td>&quot;ENSG0000007997…</td><td>&quot;22:51221731&quot;</td><td>446146</td><td>0.035942</td><td>43</td><td>45</td><td>0.863512</td><td>-0.004492</td><td>0.026119</td><td>22</td><td>51221731</td><td>&quot;T&quot;</td><td>&quot;C&quot;</td><td>0.0442561</td><td>&quot;rs115055839&quot;</td><td>&quot;HRCr11&quot;</td><td>0.911894</td><td>0.405944</td><td>1826.36</td><td>284.126</td><td>13.448</td><td>2124</td><td>0.0732185</td><td>0.000016</td><td>0.523538</td></tr><tr><td>&quot;ENSG0000007997…</td><td>&quot;22:51222100&quot;</td><td>446515</td><td>0.054313</td><td>67</td><td>68</td><td>0.408353</td><td>0.018264</td><td>0.022074</td><td>22</td><td>51222100</td><td>&quot;G&quot;</td><td>&quot;T&quot;</td><td>0.0503766</td><td>&quot;rs114553188&quot;</td><td>&quot;HRCr11&quot;</td><td>0.969267</td><td>0.716716</td><td>1911.95</td><td>205.392</td><td>6.52</td><td>2124</td><td>0.0514234</td><td>0.000033</td><td>0.821168</td></tr><tr><td>&quot;ENSG0000007997…</td><td>&quot;22:51229805&quot;</td><td>454220</td><td>0.038339</td><td>46</td><td>48</td><td>0.973919</td><td>-0.000827</td><td>0.025284</td><td>22</td><td>51229805</td><td>&quot;T&quot;</td><td>&quot;C&quot;</td><td>0.0477872</td><td>&quot;rs9616985&quot;</td><td>&quot;HRCr11&quot;</td><td>0.935419</td><td>0.585</td><td>1821.25</td><td>287.583</td><td>15.116</td><td>2124</td><td>0.0748171</td><td>0.000012</td><td>0.342973</td></tr></tbody></table></div>"
      ],
      "text/plain": [
       "shape: (77_285_276, 25)\n",
       "┌────────────┬────────────┬────────────┬──────────┬───┬────────┬───────────┬────────────┬──────────┐\n",
       "│ EnsemblID  ┆ VariantID  ┆ tss_distan ┆ CAF_eQTL ┆ … ┆ TotalN ┆ MAF       ┆ MissingDat ┆ HWE_P    │\n",
       "│ ---        ┆ ---        ┆ ce         ┆ ---      ┆   ┆ ---    ┆ ---       ┆ aProportio ┆ ---      │\n",
       "│ str        ┆ str        ┆ ---        ┆ f32      ┆   ┆ i64    ┆ f64       ┆ n          ┆ f64      │\n",
       "│            ┆            ┆ i32        ┆          ┆   ┆        ┆           ┆ ---        ┆          │\n",
       "│            ┆            ┆            ┆          ┆   ┆        ┆           ┆ f64        ┆          │\n",
       "╞════════════╪════════════╪════════════╪══════════╪═══╪════════╪═══════════╪════════════╪══════════╡\n",
       "│ ENSG000001 ┆ 1:693731   ┆ -240519    ┆ 0.134185 ┆ … ┆ 2124   ┆ 0.122957  ┆ 0.000075   ┆ 0.544841 │\n",
       "│ 87634      ┆            ┆            ┆          ┆   ┆        ┆           ┆            ┆          │\n",
       "│ ENSG000001 ┆ 1:714596   ┆ -219654    ┆ 0.038339 ┆ … ┆ 2124   ┆ 0.0322165 ┆ 0.000024   ┆ 0.272504 │\n",
       "│ 87634      ┆            ┆            ┆          ┆   ┆        ┆           ┆            ┆          │\n",
       "│ ENSG000001 ┆ 1:715367   ┆ -218883    ┆ 0.038339 ┆ … ┆ 2124   ┆ 0.0347528 ┆ 0.000019   ┆ 0.176551 │\n",
       "│ 87634      ┆            ┆            ┆          ┆   ┆        ┆           ┆            ┆          │\n",
       "│ ENSG000001 ┆ 1:717485   ┆ -216765    ┆ 0.038339 ┆ … ┆ 2124   ┆ 0.0343883 ┆ 0.000022   ┆ 0.174817 │\n",
       "│ 87634      ┆            ┆            ┆          ┆   ┆        ┆           ┆            ┆          │\n",
       "│ …          ┆ …          ┆ …          ┆ …        ┆ … ┆ …      ┆ …         ┆ …          ┆ …        │\n",
       "│ ENSG000000 ┆ 22:5122119 ┆ 445605     ┆ 0.035144 ┆ … ┆ 2124   ┆ 0.0516673 ┆ 0.000015   ┆ 0.500544 │\n",
       "│ 79974      ┆ 0          ┆            ┆          ┆   ┆        ┆           ┆            ┆          │\n",
       "│ ENSG000000 ┆ 22:5122173 ┆ 446146     ┆ 0.035942 ┆ … ┆ 2124   ┆ 0.0732185 ┆ 0.000016   ┆ 0.523538 │\n",
       "│ 79974      ┆ 1          ┆            ┆          ┆   ┆        ┆           ┆            ┆          │\n",
       "│ ENSG000000 ┆ 22:5122210 ┆ 446515     ┆ 0.054313 ┆ … ┆ 2124   ┆ 0.0514234 ┆ 0.000033   ┆ 0.821168 │\n",
       "│ 79974      ┆ 0          ┆            ┆          ┆   ┆        ┆           ┆            ┆          │\n",
       "│ ENSG000000 ┆ 22:5122980 ┆ 454220     ┆ 0.038339 ┆ … ┆ 2124   ┆ 0.0748171 ┆ 0.000012   ┆ 0.342973 │\n",
       "│ 79974      ┆ 5          ┆            ┆          ┆   ┆        ┆           ┆            ┆          │\n",
       "└────────────┴────────────┴────────────┴──────────┴───┴────────┴───────────┴────────────┴──────────┘"
      ]
     },
     "execution_count": 10,
     "metadata": {},
     "output_type": "execute_result"
    }
   ],
   "source": [
    "sumstats_nom_cis_eqtl"
   ]
  },
  {
   "cell_type": "code",
   "execution_count": 12,
   "metadata": {},
   "outputs": [
    {
     "name": "stdout",
     "output_type": "stream",
     "text": [
      "Merging target variants with nominal cis-eQTLs.\n",
      "> Sorting the DataFrame by column \"pval_nominal\" in descending order.\n",
      "> Showing the first 5 rows of the DataFrame.\n",
      "shape: (10, 34)\n",
      "┌───────────┬───────┬──────────────┬─────┬───┬────────┬──────────┬──────────────────────┬──────────┐\n",
      "│ RSID      ┆ ALTID ┆ VariantID    ┆ Chr ┆ … ┆ TotalN ┆ MAF      ┆ MissingDataProportio ┆ HWE_P    │\n",
      "│ ---       ┆ ---   ┆ ---          ┆ --- ┆   ┆ ---    ┆ ---      ┆ n                    ┆ ---      │\n",
      "│ str       ┆ str   ┆ str          ┆ i64 ┆   ┆ i64    ┆ f64      ┆ ---                  ┆ f64      │\n",
      "│           ┆       ┆              ┆     ┆   ┆        ┆          ┆ f64                  ┆          │\n",
      "╞═══════════╪═══════╪══════════════╪═════╪═══╪════════╪══════════╪══════════════════════╪══════════╡\n",
      "│ rs2672592 ┆ ---   ┆ 10:124230750 ┆ 10  ┆ … ┆ 2124   ┆ 0.335975 ┆ 0.000006             ┆ 0.495824 │\n",
      "│ rs2672592 ┆ ---   ┆ 10:124230750 ┆ 10  ┆ … ┆ 2124   ┆ 0.335975 ┆ 0.000006             ┆ 0.495824 │\n",
      "│ rs2672592 ┆ ---   ┆ 10:124230750 ┆ 10  ┆ … ┆ 2124   ┆ 0.335975 ┆ 0.000006             ┆ 0.495824 │\n",
      "│ rs2672592 ┆ ---   ┆ 10:124230750 ┆ 10  ┆ … ┆ 2124   ┆ 0.335975 ┆ 0.000006             ┆ 0.495824 │\n",
      "│ …         ┆ …     ┆ …            ┆ …   ┆ … ┆ …      ┆ …        ┆ …                    ┆ …        │\n",
      "│ rs2672592 ┆ ---   ┆ 10:124230750 ┆ 10  ┆ … ┆ 2124   ┆ 0.335975 ┆ 0.000006             ┆ 0.495824 │\n",
      "│ rs2672592 ┆ ---   ┆ 10:124230750 ┆ 10  ┆ … ┆ 2124   ┆ 0.335975 ┆ 0.000006             ┆ 0.495824 │\n",
      "│ rs2672592 ┆ ---   ┆ 10:124230750 ┆ 10  ┆ … ┆ 2124   ┆ 0.335975 ┆ 0.000006             ┆ 0.495824 │\n",
      "│ rs2672592 ┆ ---   ┆ 10:124230750 ┆ 10  ┆ … ┆ 2124   ┆ 0.335975 ┆ 0.000006             ┆ 0.495824 │\n",
      "└───────────┴───────┴──────────────┴─────┴───┴────────┴──────────┴──────────────────────┴──────────┘\n",
      "> Exporting the Polars DataFrame to a CSV file.\n"
     ]
    }
   ],
   "source": [
    "molqtl_merge_and_export(target_variants, sumstats_nom_cis_eqtl, \"VariantID\", \"VariantID\",\n",
    "                        \"pval_nominal\",\n",
    "                        os.path.join(molQTL_loc, FORMATTED_TODAY + \".\" + PROJECTNAME + \".nom_cis_eqtl.csv\"))"
   ]
  },
  {
   "cell_type": "code",
   "execution_count": 13,
   "metadata": {},
   "outputs": [],
   "source": [
    "# Clean up\n",
    "\n",
    "del sumstats_nom_cis_eqtl"
   ]
  },
  {
   "cell_type": "markdown",
   "metadata": {},
   "source": [
    "# cis-mQTL (permuted)\n",
    "\n",
    "Here we load the nominal _cis_-acting mQTL data."
   ]
  },
  {
   "cell_type": "code",
   "execution_count": 14,
   "metadata": {},
   "outputs": [],
   "source": [
    "# read in data\n",
    "import polars as pl\n",
    "\n",
    "# Specify the file path to your data\n",
    "file_path = os.path.join(PERM_CIS_MQTL_loc, \"tensormqtl.perm_cis_mqtl.txt\")\n",
    "\n",
    "# Read the data into a Polars DataFrame\n",
    "sumstats_perm_cis_mqtl = pl.read_csv(\n",
    "    file_path, has_header=True, separator=\"\\t\", ignore_errors=True\n",
    ")"
   ]
  },
  {
   "cell_type": "code",
   "execution_count": 15,
   "metadata": {},
   "outputs": [
    {
     "data": {
      "text/html": [
       "<div><style>\n",
       ".dataframe > thead > tr > th,\n",
       ".dataframe > tbody > tr > td {\n",
       "  text-align: right;\n",
       "  white-space: pre-wrap;\n",
       "}\n",
       "</style>\n",
       "<small>shape: (268_375, 18)</small><table border=\"1\" class=\"dataframe\"><thead><tr><th>phenotype_id</th><th>num_var</th><th>beta_shape1</th><th>beta_shape2</th><th>true_df</th><th>pval_true_df</th><th>variant_id</th><th>tss_distance</th><th>ma_samples</th><th>ma_count</th><th>af</th><th>pval_nominal</th><th>slope</th><th>slope_se</th><th>pval_perm</th><th>pval_beta</th><th>qval</th><th>pval_nominal_threshold</th></tr><tr><td>str</td><td>i64</td><td>f64</td><td>f64</td><td>f64</td><td>f64</td><td>str</td><td>i64</td><td>i64</td><td>i64</td><td>f64</td><td>f64</td><td>f64</td><td>f64</td><td>f64</td><td>f64</td><td>f64</td><td>f64</td></tr></thead><tbody><tr><td>&quot;cg21870274&quot;</td><td>309</td><td>1.01037</td><td>15.0882</td><td>351.533</td><td>0.0495503</td><td>&quot;1:752307&quot;</td><td>682715</td><td>15</td><td>15</td><td>0.0170068</td><td>0.036876</td><td>-0.406806</td><td>0.194254</td><td>0.531247</td><td>0.530703</td><td>0.468602</td><td>0.001232</td></tr><tr><td>&quot;cg08258224&quot;</td><td>731</td><td>1.03658</td><td>40.9219</td><td>342.718</td><td>0.101636</td><td>&quot;1:1636400&quot;</td><td>836316</td><td>37</td><td>38</td><td>0.0430839</td><td>0.0780652</td><td>-0.160865</td><td>0.0910595</td><td>0.984102</td><td>0.986523</td><td>0.605861</td><td>0.000509</td></tr><tr><td>&quot;cg18147296&quot;</td><td>750</td><td>1.02594</td><td>43.8044</td><td>350.307</td><td>0.000046</td><td>&quot;1:771410&quot;</td><td>-41130</td><td>130</td><td>141</td><td>0.840136</td><td>0.000014</td><td>-0.195278</td><td>0.0444456</td><td>0.0017</td><td>0.001693</td><td>0.006203</td><td>0.000454</td></tr><tr><td>&quot;cg13938959&quot;</td><td>787</td><td>1.00503</td><td>41.991</td><td>346.635</td><td>0.0160055</td><td>&quot;1:800193&quot;</td><td>-33991</td><td>7</td><td>7</td><td>0.007937</td><td>0.009935</td><td>0.568674</td><td>0.219518</td><td>0.49525</td><td>0.48971</td><td>0.45302</td><td>0.000433</td></tr><tr><td>&quot;cg12445832&quot;</td><td>787</td><td>1.01013</td><td>42.2714</td><td>344.888</td><td>0.003059</td><td>&quot;1:1706886&quot;</td><td>872590</td><td>44</td><td>46</td><td>0.0521542</td><td>0.001483</td><td>-0.25942</td><td>0.08106</td><td>0.118388</td><td>0.118428</td><td>0.211842</td><td>0.000439</td></tr><tr><td>&quot;cg23999112&quot;</td><td>787</td><td>1.03227</td><td>42.5622</td><td>342.63</td><td>0.0111282</td><td>&quot;1:810286&quot;</td><td>-24071</td><td>114</td><td>124</td><td>0.14059</td><td>0.006277</td><td>0.168039</td><td>0.0611592</td><td>0.364464</td><td>0.363523</td><td>0.395055</td><td>0.00048</td></tr><tr><td>&quot;cg08128007&quot;</td><td>799</td><td>1.01323</td><td>45.7034</td><td>353.328</td><td>0.025363</td><td>&quot;1:1037047&quot;</td><td>197611</td><td>177</td><td>207</td><td>0.234694</td><td>0.0177802</td><td>0.174208</td><td>0.0731943</td><td>0.686431</td><td>0.685759</td><td>0.522438</td><td>0.000412</td></tr><tr><td>&quot;cg23733394&quot;</td><td>799</td><td>1.02275</td><td>42.9169</td><td>345.861</td><td>0.000206</td><td>&quot;1:753405&quot;</td><td>-86348</td><td>108</td><td>118</td><td>0.866213</td><td>0.00007</td><td>-0.393622</td><td>0.0979262</td><td>0.006899</td><td>0.007824</td><td>0.0248428</td><td>0.000457</td></tr><tr><td>&quot;cg13371836&quot;</td><td>800</td><td>0.994356</td><td>47.1897</td><td>362.606</td><td>0.0186669</td><td>&quot;1:1830151&quot;</td><td>989876</td><td>125</td><td>141</td><td>0.159864</td><td>0.0138438</td><td>-0.193078</td><td>0.0780974</td><td>0.588241</td><td>0.591562</td><td>0.491116</td><td>0.000367</td></tr><tr><td>&quot;cg04407431&quot;</td><td>801</td><td>1.01772</td><td>44.621</td><td>351.137</td><td>0.023597</td><td>&quot;1:768448&quot;</td><td>-72171</td><td>34</td><td>37</td><td>0.0419501</td><td>0.0160789</td><td>-0.358302</td><td>0.148214</td><td>0.650535</td><td>0.648136</td><td>0.51084</td><td>0.00043</td></tr><tr><td>&quot;cg13565718&quot;</td><td>803</td><td>1.02451</td><td>43.7372</td><td>349.23</td><td>0.004561</td><td>&quot;1:1280014&quot;</td><td>438724</td><td>20</td><td>20</td><td>0.977324</td><td>0.00249</td><td>0.513216</td><td>0.1686</td><td>0.173883</td><td>0.172217</td><td>0.265846</td><td>0.000452</td></tr><tr><td>&quot;cg08900511&quot;</td><td>806</td><td>1.01875</td><td>45.4917</td><td>353.304</td><td>0.000764</td><td>&quot;1:1069653&quot;</td><td>226071</td><td>118</td><td>133</td><td>0.150794</td><td>0.00036</td><td>0.217663</td><td>0.0604773</td><td>0.029797</td><td>0.0318135</td><td>0.0819445</td><td>0.000424</td></tr><tr><td>&hellip;</td><td>&hellip;</td><td>&hellip;</td><td>&hellip;</td><td>&hellip;</td><td>&hellip;</td><td>&hellip;</td><td>&hellip;</td><td>&hellip;</td><td>&hellip;</td><td>&hellip;</td><td>&hellip;</td><td>&hellip;</td><td>&hellip;</td><td>&hellip;</td><td>&hellip;</td><td>&hellip;</td><td>&hellip;</td></tr><tr><td>&quot;cg09828012&quot;</td><td>3000</td><td>1.07325</td><td>199.61</td><td>319.981</td><td>1.9089e-9</td><td>&quot;22:51155151&quot;</td><td>-8874</td><td>307</td><td>401</td><td>0.545351</td><td>2.2288e-11</td><td>0.368998</td><td>0.0535727</td><td>0.0001</td><td>1.2492e-7</td><td>6.4574e-7</td><td>0.000151</td></tr><tr><td>&quot;cg17074573&quot;</td><td>2995</td><td>1.05257</td><td>221.548</td><td>329.132</td><td>0.00484</td><td>&quot;22:50614941&quot;</td><td>-550597</td><td>165</td><td>180</td><td>0.204082</td><td>0.00197</td><td>-0.21948</td><td>0.0704473</td><td>0.643836</td><td>0.636885</td><td>0.454227</td><td>0.000125</td></tr><tr><td>&quot;cg03403991&quot;</td><td>2993</td><td>1.07267</td><td>200.999</td><td>319.97</td><td>0.0111796</td><td>&quot;22:50623352&quot;</td><td>-543836</td><td>284</td><td>362</td><td>0.410431</td><td>0.004708</td><td>0.104384</td><td>0.036723</td><td>0.884912</td><td>0.882237</td><td>0.525003</td><td>0.000149</td></tr><tr><td>&quot;cg12502079&quot;</td><td>2991</td><td>1.03706</td><td>212.372</td><td>327.668</td><td>0.0144307</td><td>&quot;22:50345178&quot;</td><td>-823851</td><td>15</td><td>15</td><td>0.0170068</td><td>0.0070786</td><td>-0.214849</td><td>0.0793624</td><td>0.949705</td><td>0.950988</td><td>0.542381</td><td>0.000123</td></tr><tr><td>&quot;cg06422471&quot;</td><td>2989</td><td>1.04333</td><td>225.437</td><td>330.999</td><td>0.006996</td><td>&quot;22:50695270&quot;</td><td>-474231</td><td>229</td><td>277</td><td>0.685941</td><td>0.003136</td><td>0.0601275</td><td>0.0202292</td><td>0.782922</td><td>0.781414</td><td>0.499354</td><td>0.000119</td></tr><tr><td>&quot;cg19324023&quot;</td><td>2988</td><td>1.04238</td><td>218.6</td><td>328.976</td><td>0.004456</td><td>&quot;22:51197266&quot;</td><td>27262</td><td>259</td><td>321</td><td>0.363946</td><td>0.001781</td><td>-0.082634</td><td>0.0262677</td><td>0.612639</td><td>0.604886</td><td>0.4448</td><td>0.000122</td></tr><tr><td>&quot;cg09635994&quot;</td><td>2986</td><td>1.05935</td><td>199.946</td><td>322.294</td><td>0.000518</td><td>&quot;22:50341707&quot;</td><td>-829557</td><td>58</td><td>59</td><td>0.0668934</td><td>0.000117</td><td>-0.275115</td><td>0.0706858</td><td>0.0828917</td><td>0.0836606</td><td>0.140175</td><td>0.000143</td></tr><tr><td>&quot;cg19004771&quot;</td><td>2979</td><td>1.04971</td><td>202.825</td><td>323.792</td><td>0.000565</td><td>&quot;22:51181759&quot;</td><td>8693</td><td>100</td><td>108</td><td>0.877551</td><td>0.000134</td><td>-0.238654</td><td>0.0618922</td><td>0.0933907</td><td>0.0950843</td><td>0.152963</td><td>0.000135</td></tr><tr><td>&quot;cg20569369&quot;</td><td>2979</td><td>1.04484</td><td>216.682</td><td>329.092</td><td>0.00114</td><td>&quot;22:50519640&quot;</td><td>-654007</td><td>25</td><td>25</td><td>0.0283447</td><td>0.000352</td><td>-0.456097</td><td>0.126513</td><td>0.20348</td><td>0.201155</td><td>0.249547</td><td>0.000124</td></tr><tr><td>&quot;cg26034629&quot;</td><td>2975</td><td>1.03817</td><td>214.838</td><td>329.486</td><td>0.003815</td><td>&quot;22:50913182&quot;</td><td>-262183</td><td>75</td><td>79</td><td>0.0895692</td><td>0.001493</td><td>0.316939</td><td>0.0990935</td><td>0.549345</td><td>0.542439</td><td>0.423997</td><td>0.000122</td></tr><tr><td>&quot;cg25232725&quot;</td><td>2975</td><td>1.04781</td><td>217.38</td><td>327.78</td><td>0.001621</td><td>&quot;22:50642777&quot;</td><td>-532739</td><td>302</td><td>394</td><td>0.553288</td><td>0.000522</td><td>-0.164639</td><td>0.0470652</td><td>0.278472</td><td>0.275782</td><td>0.300416</td><td>0.000125</td></tr><tr><td>&quot;cg05615487&quot;</td><td>2973</td><td>1.05074</td><td>219.59</td><td>329.205</td><td>0.004493</td><td>&quot;22:51151350&quot;</td><td>-25058</td><td>270</td><td>335</td><td>0.379819</td><td>0.001805</td><td>0.161365</td><td>0.0513606</td><td>0.610839</td><td>0.60608</td><td>0.445053</td><td>0.000126</td></tr></tbody></table></div>"
      ],
      "text/plain": [
       "shape: (268_375, 18)\n",
       "┌────────────┬─────────┬────────────┬───────────┬───┬───────────┬───────────┬──────────┬───────────┐\n",
       "│ phenotype_ ┆ num_var ┆ beta_shape ┆ beta_shap ┆ … ┆ pval_perm ┆ pval_beta ┆ qval     ┆ pval_nomi │\n",
       "│ id         ┆ ---     ┆ 1          ┆ e2        ┆   ┆ ---       ┆ ---       ┆ ---      ┆ nal_thres │\n",
       "│ ---        ┆ i64     ┆ ---        ┆ ---       ┆   ┆ f64       ┆ f64       ┆ f64      ┆ hold      │\n",
       "│ str        ┆         ┆ f64        ┆ f64       ┆   ┆           ┆           ┆          ┆ ---       │\n",
       "│            ┆         ┆            ┆           ┆   ┆           ┆           ┆          ┆ f64       │\n",
       "╞════════════╪═════════╪════════════╪═══════════╪═══╪═══════════╪═══════════╪══════════╪═══════════╡\n",
       "│ cg21870274 ┆ 309     ┆ 1.01037    ┆ 15.0882   ┆ … ┆ 0.531247  ┆ 0.530703  ┆ 0.468602 ┆ 0.001232  │\n",
       "│ cg08258224 ┆ 731     ┆ 1.03658    ┆ 40.9219   ┆ … ┆ 0.984102  ┆ 0.986523  ┆ 0.605861 ┆ 0.000509  │\n",
       "│ cg18147296 ┆ 750     ┆ 1.02594    ┆ 43.8044   ┆ … ┆ 0.0017    ┆ 0.001693  ┆ 0.006203 ┆ 0.000454  │\n",
       "│ cg13938959 ┆ 787     ┆ 1.00503    ┆ 41.991    ┆ … ┆ 0.49525   ┆ 0.48971   ┆ 0.45302  ┆ 0.000433  │\n",
       "│ …          ┆ …       ┆ …          ┆ …         ┆ … ┆ …         ┆ …         ┆ …        ┆ …         │\n",
       "│ cg20569369 ┆ 2979    ┆ 1.04484    ┆ 216.682   ┆ … ┆ 0.20348   ┆ 0.201155  ┆ 0.249547 ┆ 0.000124  │\n",
       "│ cg26034629 ┆ 2975    ┆ 1.03817    ┆ 214.838   ┆ … ┆ 0.549345  ┆ 0.542439  ┆ 0.423997 ┆ 0.000122  │\n",
       "│ cg25232725 ┆ 2975    ┆ 1.04781    ┆ 217.38    ┆ … ┆ 0.278472  ┆ 0.275782  ┆ 0.300416 ┆ 0.000125  │\n",
       "│ cg05615487 ┆ 2973    ┆ 1.05074    ┆ 219.59    ┆ … ┆ 0.610839  ┆ 0.60608   ┆ 0.445053 ┆ 0.000126  │\n",
       "└────────────┴─────────┴────────────┴───────────┴───┴───────────┴───────────┴──────────┴───────────┘"
      ]
     },
     "execution_count": 15,
     "metadata": {},
     "output_type": "execute_result"
    }
   ],
   "source": [
    "# Display the first few rows of the DataFrame to verify the data loading\n",
    "sumstats_perm_cis_mqtl"
   ]
  },
  {
   "cell_type": "code",
   "execution_count": 16,
   "metadata": {},
   "outputs": [
    {
     "name": "stdout",
     "output_type": "stream",
     "text": [
      "Merging target variants with nominal cis-eQTLs.\n",
      "> Sorting the DataFrame by column \"pval_nominal\" in descending order.\n",
      "> Showing the first 5 rows of the DataFrame.\n",
      "shape: (0, 27)\n",
      "┌──────┬───────┬───────────┬─────┬───┬───────────┬───────────┬──────┬────────────────────────┐\n",
      "│ RSID ┆ ALTID ┆ VariantID ┆ Chr ┆ … ┆ pval_perm ┆ pval_beta ┆ qval ┆ pval_nominal_threshold │\n",
      "│ ---  ┆ ---   ┆ ---       ┆ --- ┆   ┆ ---       ┆ ---       ┆ ---  ┆ ---                    │\n",
      "│ str  ┆ str   ┆ str       ┆ i64 ┆   ┆ f64       ┆ f64       ┆ f64  ┆ f64                    │\n",
      "╞══════╪═══════╪═══════════╪═════╪═══╪═══════════╪═══════════╪══════╪════════════════════════╡\n",
      "└──────┴───────┴───────────┴─────┴───┴───────────┴───────────┴──────┴────────────────────────┘\n",
      "> Exporting the Polars DataFrame to a CSV file.\n"
     ]
    }
   ],
   "source": [
    "molqtl_merge_and_export(target_variants, sumstats_perm_cis_mqtl, \"VariantID\", \"variant_id\",\n",
    "                        \"pval_nominal\",\n",
    "                        os.path.join(molQTL_loc, FORMATTED_TODAY + \".\" + PROJECTNAME + \".perm_cis_eqtl.csv\"))"
   ]
  },
  {
   "cell_type": "code",
   "execution_count": 17,
   "metadata": {},
   "outputs": [],
   "source": [
    "del sumstats_perm_cis_mqtl"
   ]
  },
  {
   "cell_type": "markdown",
   "metadata": {},
   "source": [
    "# trans-eQTL (permuted)\n",
    "\n",
    "Here we load the nominal _trans_-acting eQTL data."
   ]
  },
  {
   "cell_type": "code",
   "execution_count": 18,
   "metadata": {},
   "outputs": [],
   "source": [
    "# read in data\n",
    "import polars as pl\n",
    "\n",
    "# Specify the file path to your data\n",
    "file_path = os.path.join(\n",
    "    PERM_TRANS_EQTL_loc, \"tensorqtl_trans_full.trans_qtl_pairs.parquet\"\n",
    ")\n",
    "\n",
    "# Read the data into a Polars DataFrame\n",
    "sumstats_perm_trans_eqtl = pl.read_parquet(file_path)"
   ]
  },
  {
   "cell_type": "code",
   "execution_count": 19,
   "metadata": {},
   "outputs": [
    {
     "data": {
      "text/html": [
       "<div><style>\n",
       ".dataframe > thead > tr > th,\n",
       ".dataframe > tbody > tr > td {\n",
       "  text-align: right;\n",
       "  white-space: pre-wrap;\n",
       "}\n",
       "</style>\n",
       "<small>shape: (1_278_265, 7)</small><table border=\"1\" class=\"dataframe\"><thead><tr><th>variant_id</th><th>phenotype_id</th><th>pval</th><th>b</th><th>b_se</th><th>af</th><th>__index_level_0__</th></tr><tr><td>str</td><td>str</td><td>f64</td><td>f32</td><td>f32</td><td>f32</td><td>i64</td></tr></thead><tbody><tr><td>&quot;1:730087&quot;</td><td>&quot;ENSG0000013140…</td><td>0.000009</td><td>-0.419756</td><td>0.093878</td><td>0.010383</td><td>0</td></tr><tr><td>&quot;1:752307&quot;</td><td>&quot;ENSG0000010803…</td><td>0.000006</td><td>-0.308768</td><td>0.067392</td><td>0.019169</td><td>1</td></tr><tr><td>&quot;1:752593&quot;</td><td>&quot;ENSG0000010803…</td><td>0.000006</td><td>-0.308768</td><td>0.067392</td><td>0.019169</td><td>2</td></tr><tr><td>&quot;1:752617&quot;</td><td>&quot;ENSG0000010803…</td><td>0.000006</td><td>-0.308768</td><td>0.067392</td><td>0.019169</td><td>3</td></tr><tr><td>&quot;1:754121&quot;</td><td>&quot;ENSG0000010803…</td><td>0.000006</td><td>-0.308768</td><td>0.067392</td><td>0.019169</td><td>4</td></tr><tr><td>&quot;1:754163&quot;</td><td>&quot;ENSG0000010803…</td><td>0.000006</td><td>-0.308768</td><td>0.067392</td><td>0.019169</td><td>5</td></tr><tr><td>&quot;1:754671&quot;</td><td>&quot;ENSG0000010803…</td><td>0.000006</td><td>-0.308768</td><td>0.067392</td><td>0.019169</td><td>6</td></tr><tr><td>&quot;1:759177&quot;</td><td>&quot;ENSG0000010803…</td><td>0.000006</td><td>-0.308768</td><td>0.067392</td><td>0.019169</td><td>7</td></tr><tr><td>&quot;1:759970&quot;</td><td>&quot;ENSG0000010803…</td><td>0.000006</td><td>-0.308768</td><td>0.067392</td><td>0.019169</td><td>8</td></tr><tr><td>&quot;1:760811&quot;</td><td>&quot;ENSG0000010803…</td><td>0.000006</td><td>-0.308768</td><td>0.067392</td><td>0.019169</td><td>9</td></tr><tr><td>&quot;1:761958&quot;</td><td>&quot;ENSG0000010803…</td><td>0.000006</td><td>-0.308768</td><td>0.067392</td><td>0.019169</td><td>10</td></tr><tr><td>&quot;1:800193&quot;</td><td>&quot;ENSG0000013140…</td><td>0.000008</td><td>-0.395646</td><td>0.087991</td><td>0.011981</td><td>11</td></tr><tr><td>&hellip;</td><td>&hellip;</td><td>&hellip;</td><td>&hellip;</td><td>&hellip;</td><td>&hellip;</td><td>&hellip;</td></tr><tr><td>&quot;22:51154458&quot;</td><td>&quot;ENSG0000007585…</td><td>0.000005</td><td>0.115279</td><td>0.024902</td><td>0.347444</td><td>1278253</td></tr><tr><td>&quot;22:51155151&quot;</td><td>&quot;ENSG0000016411…</td><td>0.000007</td><td>0.152381</td><td>0.03351</td><td>0.558307</td><td>1278254</td></tr><tr><td>&quot;22:51156078&quot;</td><td>&quot;ENSG0000007585…</td><td>0.000003</td><td>0.115418</td><td>0.024338</td><td>0.365815</td><td>1278255</td></tr><tr><td>&quot;22:51156732&quot;</td><td>&quot;ENSG0000015397…</td><td>0.00001</td><td>0.168354</td><td>0.037716</td><td>0.336262</td><td>1278256</td></tr><tr><td>&quot;22:51175626&quot;</td><td>&quot;ENSG0000010132…</td><td>0.000007</td><td>-0.368675</td><td>0.081176</td><td>0.059904</td><td>1278257</td></tr><tr><td>&quot;22:51180878&quot;</td><td>&quot;ENSG0000010132…</td><td>0.000002</td><td>-0.348576</td><td>0.072814</td><td>0.079073</td><td>1278258</td></tr><tr><td>&quot;22:51180966&quot;</td><td>&quot;ENSG0000010132…</td><td>0.000006</td><td>-0.372415</td><td>0.081464</td><td>0.059105</td><td>1278259</td></tr><tr><td>&quot;22:51181759&quot;</td><td>&quot;ENSG0000010567…</td><td>0.000002</td><td>-0.179683</td><td>0.037435</td><td>0.88099</td><td>1278260</td></tr><tr><td>&quot;22:51185740&quot;</td><td>&quot;ENSG0000010132…</td><td>0.000009</td><td>-0.368016</td><td>0.082059</td><td>0.058307</td><td>1278261</td></tr><tr><td>&quot;22:51185743&quot;</td><td>&quot;ENSG0000010132…</td><td>0.000009</td><td>-0.368016</td><td>0.082059</td><td>0.058307</td><td>1278262</td></tr><tr><td>&quot;22:51189146&quot;</td><td>&quot;ENSG0000010132…</td><td>0.000009</td><td>-0.368016</td><td>0.082059</td><td>0.058307</td><td>1278263</td></tr><tr><td>&quot;22:51189328&quot;</td><td>&quot;ENSG0000010132…</td><td>0.000009</td><td>-0.368016</td><td>0.082059</td><td>0.058307</td><td>1278264</td></tr></tbody></table></div>"
      ],
      "text/plain": [
       "shape: (1_278_265, 7)\n",
       "┌─────────────┬─────────────────┬──────────┬───────────┬──────────┬──────────┬───────────────────┐\n",
       "│ variant_id  ┆ phenotype_id    ┆ pval     ┆ b         ┆ b_se     ┆ af       ┆ __index_level_0__ │\n",
       "│ ---         ┆ ---             ┆ ---      ┆ ---       ┆ ---      ┆ ---      ┆ ---               │\n",
       "│ str         ┆ str             ┆ f64      ┆ f32       ┆ f32      ┆ f32      ┆ i64               │\n",
       "╞═════════════╪═════════════════╪══════════╪═══════════╪══════════╪══════════╪═══════════════════╡\n",
       "│ 1:730087    ┆ ENSG00000131408 ┆ 0.000009 ┆ -0.419756 ┆ 0.093878 ┆ 0.010383 ┆ 0                 │\n",
       "│ 1:752307    ┆ ENSG00000108039 ┆ 0.000006 ┆ -0.308768 ┆ 0.067392 ┆ 0.019169 ┆ 1                 │\n",
       "│ 1:752593    ┆ ENSG00000108039 ┆ 0.000006 ┆ -0.308768 ┆ 0.067392 ┆ 0.019169 ┆ 2                 │\n",
       "│ 1:752617    ┆ ENSG00000108039 ┆ 0.000006 ┆ -0.308768 ┆ 0.067392 ┆ 0.019169 ┆ 3                 │\n",
       "│ …           ┆ …               ┆ …        ┆ …         ┆ …        ┆ …        ┆ …                 │\n",
       "│ 22:51185740 ┆ ENSG00000101323 ┆ 0.000009 ┆ -0.368016 ┆ 0.082059 ┆ 0.058307 ┆ 1278261           │\n",
       "│ 22:51185743 ┆ ENSG00000101323 ┆ 0.000009 ┆ -0.368016 ┆ 0.082059 ┆ 0.058307 ┆ 1278262           │\n",
       "│ 22:51189146 ┆ ENSG00000101323 ┆ 0.000009 ┆ -0.368016 ┆ 0.082059 ┆ 0.058307 ┆ 1278263           │\n",
       "│ 22:51189328 ┆ ENSG00000101323 ┆ 0.000009 ┆ -0.368016 ┆ 0.082059 ┆ 0.058307 ┆ 1278264           │\n",
       "└─────────────┴─────────────────┴──────────┴───────────┴──────────┴──────────┴───────────────────┘"
      ]
     },
     "execution_count": 19,
     "metadata": {},
     "output_type": "execute_result"
    }
   ],
   "source": [
    "# Display the first few rows of the DataFrame to verify the data loading\n",
    "sumstats_perm_trans_eqtl"
   ]
  },
  {
   "cell_type": "code",
   "execution_count": 20,
   "metadata": {},
   "outputs": [
    {
     "name": "stdout",
     "output_type": "stream",
     "text": [
      "Merging target variants with nominal cis-eQTLs.\n",
      "> Sorting the DataFrame by column \"pval\" in descending order.\n",
      "> Showing the first 5 rows of the DataFrame.\n",
      "shape: (0, 16)\n",
      "┌──────┬───────┬───────────┬─────┬───┬─────┬──────┬─────┬───────────────────┐\n",
      "│ RSID ┆ ALTID ┆ VariantID ┆ Chr ┆ … ┆ b   ┆ b_se ┆ af  ┆ __index_level_0__ │\n",
      "│ ---  ┆ ---   ┆ ---       ┆ --- ┆   ┆ --- ┆ ---  ┆ --- ┆ ---               │\n",
      "│ str  ┆ str   ┆ str       ┆ i64 ┆   ┆ f32 ┆ f32  ┆ f32 ┆ i64               │\n",
      "╞══════╪═══════╪═══════════╪═════╪═══╪═════╪══════╪═════╪═══════════════════╡\n",
      "└──────┴───────┴───────────┴─────┴───┴─────┴──────┴─────┴───────────────────┘\n",
      "> Exporting the Polars DataFrame to a CSV file.\n"
     ]
    }
   ],
   "source": [
    "molqtl_merge_and_export(target_variants, sumstats_perm_trans_eqtl, \"VariantID\", \"variant_id\",\n",
    "                        \"pval\",\n",
    "                        os.path.join(molQTL_loc, FORMATTED_TODAY + \".\" + PROJECTNAME + \".perm_trans_eqtl.csv\"))"
   ]
  },
  {
   "cell_type": "code",
   "execution_count": 21,
   "metadata": {},
   "outputs": [],
   "source": [
    "del sumstats_perm_trans_eqtl"
   ]
  },
  {
   "cell_type": "markdown",
   "metadata": {},
   "source": [
    "# trans-mQTL (permuted)\n",
    "\n",
    "Here we load the nominal _trans_-acting mQTL data."
   ]
  },
  {
   "cell_type": "code",
   "execution_count": 22,
   "metadata": {},
   "outputs": [],
   "source": [
    "# read in data\n",
    "import polars as pl\n",
    "\n",
    "# Specify the file path to your data\n",
    "file_path = os.path.join(\n",
    "    PERM_TRANS_MQTL_loc, \"tensormqtl_perm_trans_qtl_pairs.annot.parquet\"\n",
    ")\n",
    "\n",
    "# Read the data into a Polars DataFrame\n",
    "sumstats_perm_trans_mqtl = pl.read_parquet(file_path)"
   ]
  },
  {
   "cell_type": "code",
   "execution_count": 23,
   "metadata": {},
   "outputs": [
    {
     "data": {
      "text/html": [
       "<div><style>\n",
       ".dataframe > thead > tr > th,\n",
       ".dataframe > tbody > tr > td {\n",
       "  text-align: right;\n",
       "  white-space: pre-wrap;\n",
       "}\n",
       "</style>\n",
       "<small>shape: (30_366_857, 23)</small><table border=\"1\" class=\"dataframe\"><thead><tr><th>VariantID</th><th>CpG</th><th>pval_perm</th><th>Beta</th><th>SE</th><th>CAF_mQTL</th><th>__index_level_0__</th><th>chromosome</th><th>position</th><th>OtherAlleleA</th><th>CodedAlleleB</th><th>CAF</th><th>AltID</th><th>Source</th><th>AverageMaximumPosteriorCall</th><th>Info</th><th>AA_N</th><th>AB_N</th><th>BB_N</th><th>TotalN</th><th>MAF</th><th>MissingDataProportion</th><th>HWE_P</th></tr><tr><td>str</td><td>str</td><td>f64</td><td>f32</td><td>f32</td><td>f32</td><td>i64</td><td>i64</td><td>i64</td><td>str</td><td>str</td><td>f64</td><td>str</td><td>str</td><td>f64</td><td>f64</td><td>f64</td><td>f64</td><td>f64</td><td>i64</td><td>f64</td><td>f64</td><td>f64</td></tr></thead><tbody><tr><td>&quot;1:693731&quot;</td><td>&quot;cg23922040&quot;</td><td>0.000007</td><td>-0.356294</td><td>0.078441</td><td>0.126984</td><td>0</td><td>1</td><td>693731</td><td>&quot;A&quot;</td><td>&quot;G&quot;</td><td>0.137241</td><td>&quot;rs12238997&quot;</td><td>&quot;HRCr11&quot;</td><td>0.902046</td><td>0.624501</td><td>1637.01</td><td>451.103</td><td>35.569</td><td>2124</td><td>0.122957</td><td>0.000075</td><td>0.544841</td></tr><tr><td>&quot;1:714596&quot;</td><td>&quot;cg26079250&quot;</td><td>4.7736e-7</td><td>0.601047</td><td>0.117393</td><td>0.038549</td><td>0</td><td>1</td><td>714596</td><td>&quot;T&quot;</td><td>&quot;C&quot;</td><td>0.0327213</td><td>&quot;rs149887893&quot;</td><td>&quot;HRCr11&quot;</td><td>0.968278</td><td>0.577564</td><td>1987.73</td><td>135.495</td><td>0.677</td><td>2124</td><td>0.0322165</td><td>0.000024</td><td>0.272504</td></tr><tr><td>&quot;1:715367&quot;</td><td>&quot;cg26079250&quot;</td><td>4.7736e-7</td><td>0.601047</td><td>0.117393</td><td>0.038549</td><td>1</td><td>1</td><td>715367</td><td>&quot;A&quot;</td><td>&quot;G&quot;</td><td>0.0324859</td><td>&quot;rs12184277&quot;</td><td>&quot;HRCr11&quot;</td><td>0.975207</td><td>0.67196</td><td>1976.85</td><td>146.512</td><td>0.556</td><td>2124</td><td>0.0347528</td><td>0.000019</td><td>0.176551</td></tr><tr><td>&quot;1:717485&quot;</td><td>&quot;cg26079250&quot;</td><td>4.7736e-7</td><td>0.601047</td><td>0.117393</td><td>0.038549</td><td>2</td><td>1</td><td>717485</td><td>&quot;C&quot;</td><td>&quot;A&quot;</td><td>0.0324859</td><td>&quot;rs12184279&quot;</td><td>&quot;HRCr11&quot;</td><td>0.975183</td><td>0.670147</td><td>1978.35</td><td>145.041</td><td>0.517</td><td>2124</td><td>0.0343883</td><td>0.000022</td><td>0.174817</td></tr><tr><td>&quot;1:720381&quot;</td><td>&quot;cg26079250&quot;</td><td>4.7736e-7</td><td>0.601047</td><td>0.117393</td><td>0.038549</td><td>3</td><td>1</td><td>720381</td><td>&quot;G&quot;</td><td>&quot;T&quot;</td><td>0.0327213</td><td>&quot;rs116801199&quot;</td><td>&quot;HRCr11&quot;</td><td>0.974476</td><td>0.667536</td><td>1973.72</td><td>149.503</td><td>0.691</td><td>2124</td><td>0.0355205</td><td>0.00002</td><td>0.110452</td></tr><tr><td>&quot;1:721290&quot;</td><td>&quot;cg26079250&quot;</td><td>4.7736e-7</td><td>0.601047</td><td>0.117393</td><td>0.038549</td><td>4</td><td>1</td><td>721290</td><td>&quot;G&quot;</td><td>&quot;C&quot;</td><td>0.0327213</td><td>&quot;rs12565286&quot;</td><td>&quot;HRCr11&quot;</td><td>0.975168</td><td>0.677386</td><td>1972.67</td><td>150.564</td><td>0.687</td><td>2124</td><td>0.0357682</td><td>0.000017</td><td>0.110447</td></tr><tr><td>&quot;1:726794&quot;</td><td>&quot;cg26079250&quot;</td><td>4.7736e-7</td><td>0.601047</td><td>0.117393</td><td>0.038549</td><td>5</td><td>1</td><td>726794</td><td>&quot;C&quot;</td><td>&quot;G&quot;</td><td>0.0324859</td><td>&quot;rs28454925&quot;</td><td>&quot;HRCr11&quot;</td><td>0.977817</td><td>0.70519</td><td>1977.3</td><td>146.099</td><td>0.547</td><td>2124</td><td>0.0346509</td><td>0.000013</td><td>0.176493</td></tr><tr><td>&quot;1:729632&quot;</td><td>&quot;cg26079250&quot;</td><td>4.7736e-7</td><td>0.601047</td><td>0.117393</td><td>0.038549</td><td>6</td><td>1</td><td>729632</td><td>&quot;C&quot;</td><td>&quot;T&quot;</td><td>0.0324859</td><td>&quot;rs116720794&quot;</td><td>&quot;HRCr11&quot;</td><td>0.978581</td><td>0.715529</td><td>1976.76</td><td>146.752</td><td>0.454</td><td>2124</td><td>0.0347604</td><td>0.000008</td><td>0.176551</td></tr><tr><td>&quot;1:729679&quot;</td><td>&quot;cg23922040&quot;</td><td>0.000003</td><td>0.343842</td><td>0.072648</td><td>0.835601</td><td>1</td><td>1</td><td>729679</td><td>&quot;C&quot;</td><td>&quot;G&quot;</td><td>0.829331</td><td>&quot;rs4951859&quot;</td><td>&quot;HRCr11&quot;</td><td>0.936062</td><td>0.78861</td><td>58.204</td><td>600.893</td><td>1464.61</td><td>2124</td><td>0.16888</td><td>0.00007</td><td>0.757157</td></tr><tr><td>&quot;1:729679&quot;</td><td>&quot;cg20911180&quot;</td><td>0.00001</td><td>0.115228</td><td>0.025699</td><td>0.835601</td><td>0</td><td>1</td><td>729679</td><td>&quot;C&quot;</td><td>&quot;G&quot;</td><td>0.829331</td><td>&quot;rs4951859&quot;</td><td>&quot;HRCr11&quot;</td><td>0.936062</td><td>0.78861</td><td>58.204</td><td>600.893</td><td>1464.61</td><td>2124</td><td>0.16888</td><td>0.00007</td><td>0.757157</td></tr><tr><td>&quot;1:729679&quot;</td><td>&quot;cg04755031&quot;</td><td>0.000001</td><td>-0.319481</td><td>0.065203</td><td>0.835601</td><td>0</td><td>1</td><td>729679</td><td>&quot;C&quot;</td><td>&quot;G&quot;</td><td>0.829331</td><td>&quot;rs4951859&quot;</td><td>&quot;HRCr11&quot;</td><td>0.936062</td><td>0.78861</td><td>58.204</td><td>600.893</td><td>1464.61</td><td>2124</td><td>0.16888</td><td>0.00007</td><td>0.757157</td></tr><tr><td>&quot;1:730087&quot;</td><td>&quot;cg21968580&quot;</td><td>4.3356e-7</td><td>-1.543802</td><td>0.300392</td><td>0.006803</td><td>2</td><td>1</td><td>730087</td><td>&quot;T&quot;</td><td>&quot;C&quot;</td><td>0.0216573</td><td>&quot;rs148120343&quot;</td><td>&quot;HRCr11&quot;</td><td>0.919602</td><td>0.439455</td><td>1902.75</td><td>213.581</td><td>7.655</td><td>2124</td><td>0.0538824</td><td>0.000003</td><td>0.665385</td></tr><tr><td>&hellip;</td><td>&hellip;</td><td>&hellip;</td><td>&hellip;</td><td>&hellip;</td><td>&hellip;</td><td>&hellip;</td><td>&hellip;</td><td>&hellip;</td><td>&hellip;</td><td>&hellip;</td><td>&hellip;</td><td>&hellip;</td><td>&hellip;</td><td>&hellip;</td><td>&hellip;</td><td>&hellip;</td><td>&hellip;</td><td>&hellip;</td><td>&hellip;</td><td>&hellip;</td><td>&hellip;</td><td>&hellip;</td></tr><tr><td>&quot;22:51221190&quot;</td><td>&quot;cg16537245&quot;</td><td>0.000004</td><td>-0.623444</td><td>0.133772</td><td>0.037415</td><td>1765264</td><td>22</td><td>51221190</td><td>&quot;G&quot;</td><td>&quot;A&quot;</td><td>0.0400188</td><td>&quot;rs369304721&quot;</td><td>&quot;HRCr11&quot;</td><td>0.933398</td><td>0.443438</td><td>1911.83</td><td>204.73</td><td>7.373</td><td>2124</td><td>0.0516673</td><td>0.000015</td><td>0.500544</td></tr><tr><td>&quot;22:51221731&quot;</td><td>&quot;cg15996984&quot;</td><td>0.00001</td><td>0.273296</td><td>0.060963</td><td>0.037415</td><td>1591595</td><td>22</td><td>51221731</td><td>&quot;T&quot;</td><td>&quot;C&quot;</td><td>0.0442561</td><td>&quot;rs115055839&quot;</td><td>&quot;HRCr11&quot;</td><td>0.911894</td><td>0.405944</td><td>1826.36</td><td>284.126</td><td>13.448</td><td>2124</td><td>0.0732185</td><td>0.000016</td><td>0.523538</td></tr><tr><td>&quot;22:51221731&quot;</td><td>&quot;cg01023769&quot;</td><td>0.000003</td><td>0.640222</td><td>0.135267</td><td>0.037415</td><td>1782851</td><td>22</td><td>51221731</td><td>&quot;T&quot;</td><td>&quot;C&quot;</td><td>0.0442561</td><td>&quot;rs115055839&quot;</td><td>&quot;HRCr11&quot;</td><td>0.911894</td><td>0.405944</td><td>1826.36</td><td>284.126</td><td>13.448</td><td>2124</td><td>0.0732185</td><td>0.000016</td><td>0.523538</td></tr><tr><td>&quot;22:51221731&quot;</td><td>&quot;cg16537245&quot;</td><td>0.000006</td><td>-0.616487</td><td>0.134441</td><td>0.037415</td><td>1765265</td><td>22</td><td>51221731</td><td>&quot;T&quot;</td><td>&quot;C&quot;</td><td>0.0442561</td><td>&quot;rs115055839&quot;</td><td>&quot;HRCr11&quot;</td><td>0.911894</td><td>0.405944</td><td>1826.36</td><td>284.126</td><td>13.448</td><td>2124</td><td>0.0732185</td><td>0.000016</td><td>0.523538</td></tr><tr><td>&quot;22:51222100&quot;</td><td>&quot;cg23791672&quot;</td><td>0.000001</td><td>0.431026</td><td>0.08784</td><td>0.055556</td><td>1915991</td><td>22</td><td>51222100</td><td>&quot;G&quot;</td><td>&quot;T&quot;</td><td>0.0503766</td><td>&quot;rs114553188&quot;</td><td>&quot;HRCr11&quot;</td><td>0.969267</td><td>0.716716</td><td>1911.95</td><td>205.392</td><td>6.52</td><td>2124</td><td>0.0514234</td><td>0.000033</td><td>0.821168</td></tr><tr><td>&quot;22:51222100&quot;</td><td>&quot;cg13041032&quot;</td><td>4.4824e-8</td><td>0.536066</td><td>0.096085</td><td>0.055556</td><td>1915992</td><td>22</td><td>51222100</td><td>&quot;G&quot;</td><td>&quot;T&quot;</td><td>0.0503766</td><td>&quot;rs114553188&quot;</td><td>&quot;HRCr11&quot;</td><td>0.969267</td><td>0.716716</td><td>1911.95</td><td>205.392</td><td>6.52</td><td>2124</td><td>0.0514234</td><td>0.000033</td><td>0.821168</td></tr><tr><td>&quot;22:51222100&quot;</td><td>&quot;cg14912896&quot;</td><td>0.00001</td><td>-0.530396</td><td>0.118366</td><td>0.055556</td><td>2341693</td><td>22</td><td>51222100</td><td>&quot;G&quot;</td><td>&quot;T&quot;</td><td>0.0503766</td><td>&quot;rs114553188&quot;</td><td>&quot;HRCr11&quot;</td><td>0.969267</td><td>0.716716</td><td>1911.95</td><td>205.392</td><td>6.52</td><td>2124</td><td>0.0514234</td><td>0.000033</td><td>0.821168</td></tr><tr><td>&quot;22:51222100&quot;</td><td>&quot;cg09152866&quot;</td><td>0.000004</td><td>-0.57776</td><td>0.12325</td><td>0.055556</td><td>1765266</td><td>22</td><td>51222100</td><td>&quot;G&quot;</td><td>&quot;T&quot;</td><td>0.0503766</td><td>&quot;rs114553188&quot;</td><td>&quot;HRCr11&quot;</td><td>0.969267</td><td>0.716716</td><td>1911.95</td><td>205.392</td><td>6.52</td><td>2124</td><td>0.0514234</td><td>0.000033</td><td>0.821168</td></tr><tr><td>&quot;22:51222100&quot;</td><td>&quot;cg13298841&quot;</td><td>0.00001</td><td>-0.39901</td><td>0.089024</td><td>0.055556</td><td>1929592</td><td>22</td><td>51222100</td><td>&quot;G&quot;</td><td>&quot;T&quot;</td><td>0.0503766</td><td>&quot;rs114553188&quot;</td><td>&quot;HRCr11&quot;</td><td>0.969267</td><td>0.716716</td><td>1911.95</td><td>205.392</td><td>6.52</td><td>2124</td><td>0.0514234</td><td>0.000033</td><td>0.821168</td></tr><tr><td>&quot;22:51229805&quot;</td><td>&quot;cg06064254&quot;</td><td>0.000006</td><td>-0.413968</td><td>0.090131</td><td>0.038549</td><td>390008</td><td>22</td><td>51229805</td><td>&quot;T&quot;</td><td>&quot;C&quot;</td><td>0.0477872</td><td>&quot;rs9616985&quot;</td><td>&quot;HRCr11&quot;</td><td>0.935419</td><td>0.585</td><td>1821.25</td><td>287.583</td><td>15.116</td><td>2124</td><td>0.0748171</td><td>0.000012</td><td>0.342973</td></tr><tr><td>&quot;22:51229805&quot;</td><td>&quot;cg01023769&quot;</td><td>0.000006</td><td>0.610595</td><td>0.133331</td><td>0.038549</td><td>1782852</td><td>22</td><td>51229805</td><td>&quot;T&quot;</td><td>&quot;C&quot;</td><td>0.0477872</td><td>&quot;rs9616985&quot;</td><td>&quot;HRCr11&quot;</td><td>0.935419</td><td>0.585</td><td>1821.25</td><td>287.583</td><td>15.116</td><td>2124</td><td>0.0748171</td><td>0.000012</td><td>0.342973</td></tr><tr><td>&quot;22:51229805&quot;</td><td>&quot;cg16537245&quot;</td><td>0.00001</td><td>-0.593727</td><td>0.132439</td><td>0.038549</td><td>1765267</td><td>22</td><td>51229805</td><td>&quot;T&quot;</td><td>&quot;C&quot;</td><td>0.0477872</td><td>&quot;rs9616985&quot;</td><td>&quot;HRCr11&quot;</td><td>0.935419</td><td>0.585</td><td>1821.25</td><td>287.583</td><td>15.116</td><td>2124</td><td>0.0748171</td><td>0.000012</td><td>0.342973</td></tr></tbody></table></div>"
      ],
      "text/plain": [
       "shape: (30_366_857, 23)\n",
       "┌────────────┬────────────┬───────────┬───────────┬───┬────────┬───────────┬────────────┬──────────┐\n",
       "│ VariantID  ┆ CpG        ┆ pval_perm ┆ Beta      ┆ … ┆ TotalN ┆ MAF       ┆ MissingDat ┆ HWE_P    │\n",
       "│ ---        ┆ ---        ┆ ---       ┆ ---       ┆   ┆ ---    ┆ ---       ┆ aProportio ┆ ---      │\n",
       "│ str        ┆ str        ┆ f64       ┆ f32       ┆   ┆ i64    ┆ f64       ┆ n          ┆ f64      │\n",
       "│            ┆            ┆           ┆           ┆   ┆        ┆           ┆ ---        ┆          │\n",
       "│            ┆            ┆           ┆           ┆   ┆        ┆           ┆ f64        ┆          │\n",
       "╞════════════╪════════════╪═══════════╪═══════════╪═══╪════════╪═══════════╪════════════╪══════════╡\n",
       "│ 1:693731   ┆ cg23922040 ┆ 0.000007  ┆ -0.356294 ┆ … ┆ 2124   ┆ 0.122957  ┆ 0.000075   ┆ 0.544841 │\n",
       "│ 1:714596   ┆ cg26079250 ┆ 4.7736e-7 ┆ 0.601047  ┆ … ┆ 2124   ┆ 0.0322165 ┆ 0.000024   ┆ 0.272504 │\n",
       "│ 1:715367   ┆ cg26079250 ┆ 4.7736e-7 ┆ 0.601047  ┆ … ┆ 2124   ┆ 0.0347528 ┆ 0.000019   ┆ 0.176551 │\n",
       "│ 1:717485   ┆ cg26079250 ┆ 4.7736e-7 ┆ 0.601047  ┆ … ┆ 2124   ┆ 0.0343883 ┆ 0.000022   ┆ 0.174817 │\n",
       "│ …          ┆ …          ┆ …         ┆ …         ┆ … ┆ …      ┆ …         ┆ …          ┆ …        │\n",
       "│ 22:5122210 ┆ cg13298841 ┆ 0.00001   ┆ -0.39901  ┆ … ┆ 2124   ┆ 0.0514234 ┆ 0.000033   ┆ 0.821168 │\n",
       "│ 0          ┆            ┆           ┆           ┆   ┆        ┆           ┆            ┆          │\n",
       "│ 22:5122980 ┆ cg06064254 ┆ 0.000006  ┆ -0.413968 ┆ … ┆ 2124   ┆ 0.0748171 ┆ 0.000012   ┆ 0.342973 │\n",
       "│ 5          ┆            ┆           ┆           ┆   ┆        ┆           ┆            ┆          │\n",
       "│ 22:5122980 ┆ cg01023769 ┆ 0.000006  ┆ 0.610595  ┆ … ┆ 2124   ┆ 0.0748171 ┆ 0.000012   ┆ 0.342973 │\n",
       "│ 5          ┆            ┆           ┆           ┆   ┆        ┆           ┆            ┆          │\n",
       "│ 22:5122980 ┆ cg16537245 ┆ 0.00001   ┆ -0.593727 ┆ … ┆ 2124   ┆ 0.0748171 ┆ 0.000012   ┆ 0.342973 │\n",
       "│ 5          ┆            ┆           ┆           ┆   ┆        ┆           ┆            ┆          │\n",
       "└────────────┴────────────┴───────────┴───────────┴───┴────────┴───────────┴────────────┴──────────┘"
      ]
     },
     "execution_count": 23,
     "metadata": {},
     "output_type": "execute_result"
    }
   ],
   "source": [
    "# Display the first few rows of the DataFrame to verify the data loading\n",
    "sumstats_perm_trans_mqtl"
   ]
  },
  {
   "cell_type": "code",
   "execution_count": 24,
   "metadata": {},
   "outputs": [
    {
     "name": "stdout",
     "output_type": "stream",
     "text": [
      "Merging target variants with nominal cis-eQTLs.\n",
      "> Sorting the DataFrame by column \"pval_perm\" in descending order.\n",
      "> Showing the first 5 rows of the DataFrame.\n",
      "shape: (4, 32)\n",
      "┌───────────┬───────┬──────────────┬─────┬───┬────────┬──────────┬──────────────────────┬──────────┐\n",
      "│ RSID      ┆ ALTID ┆ VariantID    ┆ Chr ┆ … ┆ TotalN ┆ MAF      ┆ MissingDataProportio ┆ HWE_P    │\n",
      "│ ---       ┆ ---   ┆ ---          ┆ --- ┆   ┆ ---    ┆ ---      ┆ n                    ┆ ---      │\n",
      "│ str       ┆ str   ┆ str          ┆ i64 ┆   ┆ i64    ┆ f64      ┆ ---                  ┆ f64      │\n",
      "│           ┆       ┆              ┆     ┆   ┆        ┆          ┆ f64                  ┆          │\n",
      "╞═══════════╪═══════╪══════════════╪═════╪═══╪════════╪══════════╪══════════════════════╪══════════╡\n",
      "│ rs2672592 ┆ ---   ┆ 10:124230750 ┆ 10  ┆ … ┆ 2124   ┆ 0.335975 ┆ 0.000006             ┆ 0.495824 │\n",
      "│ rs2672592 ┆ ---   ┆ 10:124230750 ┆ 10  ┆ … ┆ 2124   ┆ 0.335975 ┆ 0.000006             ┆ 0.495824 │\n",
      "│ rs2672592 ┆ ---   ┆ 10:124230750 ┆ 10  ┆ … ┆ 2124   ┆ 0.335975 ┆ 0.000006             ┆ 0.495824 │\n",
      "│ rs2672592 ┆ ---   ┆ 10:124230750 ┆ 10  ┆ … ┆ 2124   ┆ 0.335975 ┆ 0.000006             ┆ 0.495824 │\n",
      "└───────────┴───────┴──────────────┴─────┴───┴────────┴──────────┴──────────────────────┴──────────┘\n",
      "> Exporting the Polars DataFrame to a CSV file.\n"
     ]
    }
   ],
   "source": [
    "molqtl_merge_and_export(target_variants, sumstats_perm_trans_mqtl, \"VariantID\", \"VariantID\",\n",
    "                        \"pval_perm\",\n",
    "                        os.path.join(molQTL_loc, FORMATTED_TODAY + \".\" + PROJECTNAME + \".perm_trans_mqtl.csv\"))"
   ]
  },
  {
   "cell_type": "code",
   "execution_count": null,
   "metadata": {},
   "outputs": [],
   "source": [
    "del sumstats_perm_trans_mqtl"
   ]
  }
 ],
 "metadata": {
  "kernelspec": {
   "display_name": "gwas",
   "language": "python",
   "name": "python3"
  },
  "language_info": {
   "codemirror_mode": {
    "name": "ipython",
    "version": 3
   },
   "file_extension": ".py",
   "mimetype": "text/x-python",
   "name": "python",
   "nbconvert_exporter": "python",
   "pygments_lexer": "ipython3",
   "version": "3.8.17"
  },
  "orig_nbformat": 4
 },
 "nbformat": 4,
 "nbformat_minor": 2
}
